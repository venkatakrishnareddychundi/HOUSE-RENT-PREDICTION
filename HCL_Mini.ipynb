{
  "cells": [
    {
      "cell_type": "markdown",
      "metadata": {
        "colab_type": "text",
        "id": "view-in-github"
      },
      "source": [
        "<a href=\"https://colab.research.google.com/github/WhiteWolf088/HCLMini/blob/main/HCL_Mini.ipynb\" target=\"_parent\"><img src=\"https://colab.research.google.com/assets/colab-badge.svg\" alt=\"Open In Colab\"/></a>"
      ]
    },
    {
      "cell_type": "markdown",
      "metadata": {
        "id": "95EXv5czwHQJ"
      },
      "source": [
        "# Project Description\n",
        "\n",
        "* Performing regression analysis to predict the House Rent prices in Chennai by taking all the input parameters(multi linear regression)."
      ]
    },
    {
      "cell_type": "code",
      "execution_count": 1,
      "metadata": {
        "id": "iEACbSZhvWx6"
      },
      "outputs": [],
      "source": [
        "import pandas as pd\n",
        "import numpy as np\n",
        "import matplotlib.pyplot as plt\n",
        "import seaborn as sns\n",
        "import random"
      ]
    },
    {
      "cell_type": "markdown",
      "metadata": {
        "id": "6jfch1_-wfT9"
      },
      "source": [
        "## Exploratory Data Analysis (EDA) using pandas"
      ]
    },
    {
      "cell_type": "code",
      "execution_count": 2,
      "metadata": {
        "colab": {
          "base_uri": "https://localhost:8080/",
          "height": 423
        },
        "id": "K4THMrJtYG47",
        "outputId": "4d88b082-c623-4772-ec2a-7bcfcd2dc4c8"
      },
      "outputs": [
        {
          "data": {
            "text/html": [
              "\n",
              "  <div id=\"df-59a3ad0b-4923-4877-9af0-b37c8dfec297\">\n",
              "    <div class=\"colab-df-container\">\n",
              "      <div>\n",
              "<style scoped>\n",
              "    .dataframe tbody tr th:only-of-type {\n",
              "        vertical-align: middle;\n",
              "    }\n",
              "\n",
              "    .dataframe tbody tr th {\n",
              "        vertical-align: top;\n",
              "    }\n",
              "\n",
              "    .dataframe thead th {\n",
              "        text-align: right;\n",
              "    }\n",
              "</style>\n",
              "<table border=\"1\" class=\"dataframe\">\n",
              "  <thead>\n",
              "    <tr style=\"text-align: right;\">\n",
              "      <th></th>\n",
              "      <th>seller_type</th>\n",
              "      <th>bedroom</th>\n",
              "      <th>layout_type</th>\n",
              "      <th>property_type</th>\n",
              "      <th>locality</th>\n",
              "      <th>price</th>\n",
              "      <th>area</th>\n",
              "      <th>furnish_type</th>\n",
              "      <th>bathroom</th>\n",
              "    </tr>\n",
              "  </thead>\n",
              "  <tbody>\n",
              "    <tr>\n",
              "      <th>0</th>\n",
              "      <td>OWNER</td>\n",
              "      <td>3.0</td>\n",
              "      <td>BHK</td>\n",
              "      <td>Apartment</td>\n",
              "      <td>Ambattur</td>\n",
              "      <td>17,000</td>\n",
              "      <td>1570.0</td>\n",
              "      <td>Semi-Furnished</td>\n",
              "      <td>2 bathrooms</td>\n",
              "    </tr>\n",
              "    <tr>\n",
              "      <th>1</th>\n",
              "      <td>OWNER</td>\n",
              "      <td>2.0</td>\n",
              "      <td>BHK</td>\n",
              "      <td>Apartment</td>\n",
              "      <td>Kelambakkam</td>\n",
              "      <td>16,000</td>\n",
              "      <td>1402.0</td>\n",
              "      <td>Semi-Furnished</td>\n",
              "      <td>2 bathrooms</td>\n",
              "    </tr>\n",
              "    <tr>\n",
              "      <th>2</th>\n",
              "      <td>OWNER</td>\n",
              "      <td>2.0</td>\n",
              "      <td>BHK</td>\n",
              "      <td>Apartment</td>\n",
              "      <td>Adyar</td>\n",
              "      <td>20,000</td>\n",
              "      <td>800.0</td>\n",
              "      <td>Semi-Furnished</td>\n",
              "      <td>2 bathrooms</td>\n",
              "    </tr>\n",
              "    <tr>\n",
              "      <th>3</th>\n",
              "      <td>OWNER</td>\n",
              "      <td>2.0</td>\n",
              "      <td>BHK</td>\n",
              "      <td>Apartment</td>\n",
              "      <td>Sembakkam</td>\n",
              "      <td>14,000</td>\n",
              "      <td>1180.0</td>\n",
              "      <td>Unfurnished</td>\n",
              "      <td>2 bathrooms</td>\n",
              "    </tr>\n",
              "    <tr>\n",
              "      <th>4</th>\n",
              "      <td>OWNER</td>\n",
              "      <td>1.0</td>\n",
              "      <td>BHK</td>\n",
              "      <td>Independent House</td>\n",
              "      <td>Mogappair</td>\n",
              "      <td>7,000</td>\n",
              "      <td>400.0</td>\n",
              "      <td>Unfurnished</td>\n",
              "      <td>1 bathrooms</td>\n",
              "    </tr>\n",
              "    <tr>\n",
              "      <th>...</th>\n",
              "      <td>...</td>\n",
              "      <td>...</td>\n",
              "      <td>...</td>\n",
              "      <td>...</td>\n",
              "      <td>...</td>\n",
              "      <td>...</td>\n",
              "      <td>...</td>\n",
              "      <td>...</td>\n",
              "      <td>...</td>\n",
              "    </tr>\n",
              "    <tr>\n",
              "      <th>9278</th>\n",
              "      <td>OWNER</td>\n",
              "      <td>3.0</td>\n",
              "      <td>BHK</td>\n",
              "      <td>Apartment</td>\n",
              "      <td>Thoraipakkam OMR</td>\n",
              "      <td>50,000</td>\n",
              "      <td>1850.0</td>\n",
              "      <td>Furnished</td>\n",
              "      <td>3 bathrooms</td>\n",
              "    </tr>\n",
              "    <tr>\n",
              "      <th>9279</th>\n",
              "      <td>OWNER</td>\n",
              "      <td>2.0</td>\n",
              "      <td>BHK</td>\n",
              "      <td>Independent Floor</td>\n",
              "      <td>Sithalapakkam</td>\n",
              "      <td>13,000</td>\n",
              "      <td>1000.0</td>\n",
              "      <td>Semi-Furnished</td>\n",
              "      <td>2 bathrooms</td>\n",
              "    </tr>\n",
              "    <tr>\n",
              "      <th>9280</th>\n",
              "      <td>OWNER</td>\n",
              "      <td>1.0</td>\n",
              "      <td>BHK</td>\n",
              "      <td>Independent Floor</td>\n",
              "      <td>Royapettah</td>\n",
              "      <td>10,000</td>\n",
              "      <td>460.0</td>\n",
              "      <td>Unfurnished</td>\n",
              "      <td>1 bathrooms</td>\n",
              "    </tr>\n",
              "    <tr>\n",
              "      <th>9281</th>\n",
              "      <td>OWNER</td>\n",
              "      <td>2.0</td>\n",
              "      <td>BHK</td>\n",
              "      <td>Independent Floor</td>\n",
              "      <td>Ramavaram</td>\n",
              "      <td>8,000</td>\n",
              "      <td>700.0</td>\n",
              "      <td>Unfurnished</td>\n",
              "      <td>1 bathrooms</td>\n",
              "    </tr>\n",
              "    <tr>\n",
              "      <th>9282</th>\n",
              "      <td>OWNER</td>\n",
              "      <td>1.0</td>\n",
              "      <td>RK</td>\n",
              "      <td>Studio Apartment</td>\n",
              "      <td>Mogappair East</td>\n",
              "      <td>3,500</td>\n",
              "      <td>300.0</td>\n",
              "      <td>Unfurnished</td>\n",
              "      <td>1 bathrooms</td>\n",
              "    </tr>\n",
              "  </tbody>\n",
              "</table>\n",
              "<p>9283 rows × 9 columns</p>\n",
              "</div>\n",
              "      <button class=\"colab-df-convert\" onclick=\"convertToInteractive('df-59a3ad0b-4923-4877-9af0-b37c8dfec297')\"\n",
              "              title=\"Convert this dataframe to an interactive table.\"\n",
              "              style=\"display:none;\">\n",
              "        \n",
              "  <svg xmlns=\"http://www.w3.org/2000/svg\" height=\"24px\"viewBox=\"0 0 24 24\"\n",
              "       width=\"24px\">\n",
              "    <path d=\"M0 0h24v24H0V0z\" fill=\"none\"/>\n",
              "    <path d=\"M18.56 5.44l.94 2.06.94-2.06 2.06-.94-2.06-.94-.94-2.06-.94 2.06-2.06.94zm-11 1L8.5 8.5l.94-2.06 2.06-.94-2.06-.94L8.5 2.5l-.94 2.06-2.06.94zm10 10l.94 2.06.94-2.06 2.06-.94-2.06-.94-.94-2.06-.94 2.06-2.06.94z\"/><path d=\"M17.41 7.96l-1.37-1.37c-.4-.4-.92-.59-1.43-.59-.52 0-1.04.2-1.43.59L10.3 9.45l-7.72 7.72c-.78.78-.78 2.05 0 2.83L4 21.41c.39.39.9.59 1.41.59.51 0 1.02-.2 1.41-.59l7.78-7.78 2.81-2.81c.8-.78.8-2.07 0-2.86zM5.41 20L4 18.59l7.72-7.72 1.47 1.35L5.41 20z\"/>\n",
              "  </svg>\n",
              "      </button>\n",
              "      \n",
              "  <style>\n",
              "    .colab-df-container {\n",
              "      display:flex;\n",
              "      flex-wrap:wrap;\n",
              "      gap: 12px;\n",
              "    }\n",
              "\n",
              "    .colab-df-convert {\n",
              "      background-color: #E8F0FE;\n",
              "      border: none;\n",
              "      border-radius: 50%;\n",
              "      cursor: pointer;\n",
              "      display: none;\n",
              "      fill: #1967D2;\n",
              "      height: 32px;\n",
              "      padding: 0 0 0 0;\n",
              "      width: 32px;\n",
              "    }\n",
              "\n",
              "    .colab-df-convert:hover {\n",
              "      background-color: #E2EBFA;\n",
              "      box-shadow: 0px 1px 2px rgba(60, 64, 67, 0.3), 0px 1px 3px 1px rgba(60, 64, 67, 0.15);\n",
              "      fill: #174EA6;\n",
              "    }\n",
              "\n",
              "    [theme=dark] .colab-df-convert {\n",
              "      background-color: #3B4455;\n",
              "      fill: #D2E3FC;\n",
              "    }\n",
              "\n",
              "    [theme=dark] .colab-df-convert:hover {\n",
              "      background-color: #434B5C;\n",
              "      box-shadow: 0px 1px 3px 1px rgba(0, 0, 0, 0.15);\n",
              "      filter: drop-shadow(0px 1px 2px rgba(0, 0, 0, 0.3));\n",
              "      fill: #FFFFFF;\n",
              "    }\n",
              "  </style>\n",
              "\n",
              "      <script>\n",
              "        const buttonEl =\n",
              "          document.querySelector('#df-59a3ad0b-4923-4877-9af0-b37c8dfec297 button.colab-df-convert');\n",
              "        buttonEl.style.display =\n",
              "          google.colab.kernel.accessAllowed ? 'block' : 'none';\n",
              "\n",
              "        async function convertToInteractive(key) {\n",
              "          const element = document.querySelector('#df-59a3ad0b-4923-4877-9af0-b37c8dfec297');\n",
              "          const dataTable =\n",
              "            await google.colab.kernel.invokeFunction('convertToInteractive',\n",
              "                                                     [key], {});\n",
              "          if (!dataTable) return;\n",
              "\n",
              "          const docLinkHtml = 'Like what you see? Visit the ' +\n",
              "            '<a target=\"_blank\" href=https://colab.research.google.com/notebooks/data_table.ipynb>data table notebook</a>'\n",
              "            + ' to learn more about interactive tables.';\n",
              "          element.innerHTML = '';\n",
              "          dataTable['output_type'] = 'display_data';\n",
              "          await google.colab.output.renderOutput(dataTable, element);\n",
              "          const docLink = document.createElement('div');\n",
              "          docLink.innerHTML = docLinkHtml;\n",
              "          element.appendChild(docLink);\n",
              "        }\n",
              "      </script>\n",
              "    </div>\n",
              "  </div>\n",
              "  "
            ],
            "text/plain": [
              "     seller_type  bedroom layout_type      property_type          locality  \\\n",
              "0          OWNER      3.0         BHK          Apartment          Ambattur   \n",
              "1          OWNER      2.0         BHK          Apartment       Kelambakkam   \n",
              "2          OWNER      2.0         BHK          Apartment             Adyar   \n",
              "3          OWNER      2.0         BHK          Apartment         Sembakkam   \n",
              "4          OWNER      1.0         BHK  Independent House         Mogappair   \n",
              "...          ...      ...         ...                ...               ...   \n",
              "9278       OWNER      3.0         BHK          Apartment  Thoraipakkam OMR   \n",
              "9279       OWNER      2.0         BHK  Independent Floor     Sithalapakkam   \n",
              "9280       OWNER      1.0         BHK  Independent Floor        Royapettah   \n",
              "9281       OWNER      2.0         BHK  Independent Floor         Ramavaram   \n",
              "9282       OWNER      1.0          RK   Studio Apartment    Mogappair East   \n",
              "\n",
              "       price    area    furnish_type     bathroom  \n",
              "0     17,000  1570.0  Semi-Furnished  2 bathrooms  \n",
              "1     16,000  1402.0  Semi-Furnished  2 bathrooms  \n",
              "2     20,000   800.0  Semi-Furnished  2 bathrooms  \n",
              "3     14,000  1180.0     Unfurnished  2 bathrooms  \n",
              "4      7,000   400.0     Unfurnished  1 bathrooms  \n",
              "...      ...     ...             ...          ...  \n",
              "9278  50,000  1850.0       Furnished  3 bathrooms  \n",
              "9279  13,000  1000.0  Semi-Furnished  2 bathrooms  \n",
              "9280  10,000   460.0     Unfurnished  1 bathrooms  \n",
              "9281   8,000   700.0     Unfurnished  1 bathrooms  \n",
              "9282   3,500   300.0     Unfurnished  1 bathrooms  \n",
              "\n",
              "[9283 rows x 9 columns]"
            ]
          },
          "execution_count": 2,
          "metadata": {},
          "output_type": "execute_result"
        }
      ],
      "source": [
        "# importing data\n",
        "df=pd.read_csv('https://github.com/venkatakrishnareddychundi/House-rent-prediction/blob/main/Chennai_rent.csv')\n",
        "df"
      ]
    },
    {
      "cell_type": "code",
      "execution_count": 3,
      "metadata": {
        "colab": {
          "base_uri": "https://localhost:8080/",
          "height": 174
        },
        "id": "qCr04VPnxrkZ",
        "outputId": "53844693-34ba-4352-a993-bbffe6b97c51"
      },
      "outputs": [
        {
          "data": {
            "text/html": [
              "\n",
              "  <div id=\"df-4088b17d-2c79-4b9a-8501-ba2efe7e9f10\">\n",
              "    <div class=\"colab-df-container\">\n",
              "      <div>\n",
              "<style scoped>\n",
              "    .dataframe tbody tr th:only-of-type {\n",
              "        vertical-align: middle;\n",
              "    }\n",
              "\n",
              "    .dataframe tbody tr th {\n",
              "        vertical-align: top;\n",
              "    }\n",
              "\n",
              "    .dataframe thead th {\n",
              "        text-align: right;\n",
              "    }\n",
              "</style>\n",
              "<table border=\"1\" class=\"dataframe\">\n",
              "  <thead>\n",
              "    <tr style=\"text-align: right;\">\n",
              "      <th></th>\n",
              "      <th>seller_type</th>\n",
              "      <th>bedroom</th>\n",
              "      <th>layout_type</th>\n",
              "      <th>property_type</th>\n",
              "      <th>locality</th>\n",
              "      <th>price</th>\n",
              "      <th>area</th>\n",
              "      <th>furnish_type</th>\n",
              "      <th>bathroom</th>\n",
              "    </tr>\n",
              "  </thead>\n",
              "  <tbody>\n",
              "    <tr>\n",
              "      <th>0</th>\n",
              "      <td>OWNER</td>\n",
              "      <td>3.0</td>\n",
              "      <td>BHK</td>\n",
              "      <td>Apartment</td>\n",
              "      <td>Ambattur</td>\n",
              "      <td>17,000</td>\n",
              "      <td>1570.0</td>\n",
              "      <td>Semi-Furnished</td>\n",
              "      <td>2 bathrooms</td>\n",
              "    </tr>\n",
              "    <tr>\n",
              "      <th>1</th>\n",
              "      <td>OWNER</td>\n",
              "      <td>2.0</td>\n",
              "      <td>BHK</td>\n",
              "      <td>Apartment</td>\n",
              "      <td>Kelambakkam</td>\n",
              "      <td>16,000</td>\n",
              "      <td>1402.0</td>\n",
              "      <td>Semi-Furnished</td>\n",
              "      <td>2 bathrooms</td>\n",
              "    </tr>\n",
              "    <tr>\n",
              "      <th>2</th>\n",
              "      <td>OWNER</td>\n",
              "      <td>2.0</td>\n",
              "      <td>BHK</td>\n",
              "      <td>Apartment</td>\n",
              "      <td>Adyar</td>\n",
              "      <td>20,000</td>\n",
              "      <td>800.0</td>\n",
              "      <td>Semi-Furnished</td>\n",
              "      <td>2 bathrooms</td>\n",
              "    </tr>\n",
              "    <tr>\n",
              "      <th>3</th>\n",
              "      <td>OWNER</td>\n",
              "      <td>2.0</td>\n",
              "      <td>BHK</td>\n",
              "      <td>Apartment</td>\n",
              "      <td>Sembakkam</td>\n",
              "      <td>14,000</td>\n",
              "      <td>1180.0</td>\n",
              "      <td>Unfurnished</td>\n",
              "      <td>2 bathrooms</td>\n",
              "    </tr>\n",
              "  </tbody>\n",
              "</table>\n",
              "</div>\n",
              "      <button class=\"colab-df-convert\" onclick=\"convertToInteractive('df-4088b17d-2c79-4b9a-8501-ba2efe7e9f10')\"\n",
              "              title=\"Convert this dataframe to an interactive table.\"\n",
              "              style=\"display:none;\">\n",
              "        \n",
              "  <svg xmlns=\"http://www.w3.org/2000/svg\" height=\"24px\"viewBox=\"0 0 24 24\"\n",
              "       width=\"24px\">\n",
              "    <path d=\"M0 0h24v24H0V0z\" fill=\"none\"/>\n",
              "    <path d=\"M18.56 5.44l.94 2.06.94-2.06 2.06-.94-2.06-.94-.94-2.06-.94 2.06-2.06.94zm-11 1L8.5 8.5l.94-2.06 2.06-.94-2.06-.94L8.5 2.5l-.94 2.06-2.06.94zm10 10l.94 2.06.94-2.06 2.06-.94-2.06-.94-.94-2.06-.94 2.06-2.06.94z\"/><path d=\"M17.41 7.96l-1.37-1.37c-.4-.4-.92-.59-1.43-.59-.52 0-1.04.2-1.43.59L10.3 9.45l-7.72 7.72c-.78.78-.78 2.05 0 2.83L4 21.41c.39.39.9.59 1.41.59.51 0 1.02-.2 1.41-.59l7.78-7.78 2.81-2.81c.8-.78.8-2.07 0-2.86zM5.41 20L4 18.59l7.72-7.72 1.47 1.35L5.41 20z\"/>\n",
              "  </svg>\n",
              "      </button>\n",
              "      \n",
              "  <style>\n",
              "    .colab-df-container {\n",
              "      display:flex;\n",
              "      flex-wrap:wrap;\n",
              "      gap: 12px;\n",
              "    }\n",
              "\n",
              "    .colab-df-convert {\n",
              "      background-color: #E8F0FE;\n",
              "      border: none;\n",
              "      border-radius: 50%;\n",
              "      cursor: pointer;\n",
              "      display: none;\n",
              "      fill: #1967D2;\n",
              "      height: 32px;\n",
              "      padding: 0 0 0 0;\n",
              "      width: 32px;\n",
              "    }\n",
              "\n",
              "    .colab-df-convert:hover {\n",
              "      background-color: #E2EBFA;\n",
              "      box-shadow: 0px 1px 2px rgba(60, 64, 67, 0.3), 0px 1px 3px 1px rgba(60, 64, 67, 0.15);\n",
              "      fill: #174EA6;\n",
              "    }\n",
              "\n",
              "    [theme=dark] .colab-df-convert {\n",
              "      background-color: #3B4455;\n",
              "      fill: #D2E3FC;\n",
              "    }\n",
              "\n",
              "    [theme=dark] .colab-df-convert:hover {\n",
              "      background-color: #434B5C;\n",
              "      box-shadow: 0px 1px 3px 1px rgba(0, 0, 0, 0.15);\n",
              "      filter: drop-shadow(0px 1px 2px rgba(0, 0, 0, 0.3));\n",
              "      fill: #FFFFFF;\n",
              "    }\n",
              "  </style>\n",
              "\n",
              "      <script>\n",
              "        const buttonEl =\n",
              "          document.querySelector('#df-4088b17d-2c79-4b9a-8501-ba2efe7e9f10 button.colab-df-convert');\n",
              "        buttonEl.style.display =\n",
              "          google.colab.kernel.accessAllowed ? 'block' : 'none';\n",
              "\n",
              "        async function convertToInteractive(key) {\n",
              "          const element = document.querySelector('#df-4088b17d-2c79-4b9a-8501-ba2efe7e9f10');\n",
              "          const dataTable =\n",
              "            await google.colab.kernel.invokeFunction('convertToInteractive',\n",
              "                                                     [key], {});\n",
              "          if (!dataTable) return;\n",
              "\n",
              "          const docLinkHtml = 'Like what you see? Visit the ' +\n",
              "            '<a target=\"_blank\" href=https://colab.research.google.com/notebooks/data_table.ipynb>data table notebook</a>'\n",
              "            + ' to learn more about interactive tables.';\n",
              "          element.innerHTML = '';\n",
              "          dataTable['output_type'] = 'display_data';\n",
              "          await google.colab.output.renderOutput(dataTable, element);\n",
              "          const docLink = document.createElement('div');\n",
              "          docLink.innerHTML = docLinkHtml;\n",
              "          element.appendChild(docLink);\n",
              "        }\n",
              "      </script>\n",
              "    </div>\n",
              "  </div>\n",
              "  "
            ],
            "text/plain": [
              "  seller_type  bedroom layout_type property_type     locality   price    area  \\\n",
              "0       OWNER      3.0         BHK     Apartment     Ambattur  17,000  1570.0   \n",
              "1       OWNER      2.0         BHK     Apartment  Kelambakkam  16,000  1402.0   \n",
              "2       OWNER      2.0         BHK     Apartment        Adyar  20,000   800.0   \n",
              "3       OWNER      2.0         BHK     Apartment    Sembakkam  14,000  1180.0   \n",
              "\n",
              "     furnish_type     bathroom  \n",
              "0  Semi-Furnished  2 bathrooms  \n",
              "1  Semi-Furnished  2 bathrooms  \n",
              "2  Semi-Furnished  2 bathrooms  \n",
              "3     Unfurnished  2 bathrooms  "
            ]
          },
          "execution_count": 3,
          "metadata": {},
          "output_type": "execute_result"
        }
      ],
      "source": [
        "df.head(4)"
      ]
    },
    {
      "cell_type": "code",
      "execution_count": 4,
      "metadata": {
        "colab": {
          "base_uri": "https://localhost:8080/"
        },
        "id": "H_6mGLz1xmXz",
        "outputId": "02c7ff88-118f-423f-fd1e-e31ed7a3146d"
      },
      "outputs": [
        {
          "data": {
            "text/plain": [
              "Index(['seller_type', 'bedroom', 'layout_type', 'property_type', 'locality',\n",
              "       'price', 'area', 'furnish_type', 'bathroom'],\n",
              "      dtype='object')"
            ]
          },
          "execution_count": 4,
          "metadata": {},
          "output_type": "execute_result"
        }
      ],
      "source": [
        "df.columns"
      ]
    },
    {
      "cell_type": "code",
      "execution_count": 5,
      "metadata": {
        "colab": {
          "base_uri": "https://localhost:8080/"
        },
        "id": "NzQIi0yQydcY",
        "outputId": "cf44ef57-1b7e-4cbc-c7bf-7601e6560565"
      },
      "outputs": [
        {
          "data": {
            "text/plain": [
              "(9283, 9)"
            ]
          },
          "execution_count": 5,
          "metadata": {},
          "output_type": "execute_result"
        }
      ],
      "source": [
        "df.shape"
      ]
    },
    {
      "cell_type": "code",
      "execution_count": 6,
      "metadata": {
        "colab": {
          "base_uri": "https://localhost:8080/"
        },
        "id": "K0LH1696yhAZ",
        "outputId": "e2ddb0f1-e3a2-4af9-d4de-91f791713454"
      },
      "outputs": [
        {
          "data": {
            "text/plain": [
              "83547"
            ]
          },
          "execution_count": 6,
          "metadata": {},
          "output_type": "execute_result"
        }
      ],
      "source": [
        "df.size"
      ]
    },
    {
      "cell_type": "code",
      "execution_count": 7,
      "metadata": {
        "colab": {
          "base_uri": "https://localhost:8080/",
          "height": 300
        },
        "id": "NgbMyYdKymPt",
        "outputId": "c0a4e86d-dd39-4a46-9319-42170b0bb7b5"
      },
      "outputs": [
        {
          "data": {
            "text/html": [
              "\n",
              "  <div id=\"df-6680a990-330a-413c-91f0-f1bd75969fd5\">\n",
              "    <div class=\"colab-df-container\">\n",
              "      <div>\n",
              "<style scoped>\n",
              "    .dataframe tbody tr th:only-of-type {\n",
              "        vertical-align: middle;\n",
              "    }\n",
              "\n",
              "    .dataframe tbody tr th {\n",
              "        vertical-align: top;\n",
              "    }\n",
              "\n",
              "    .dataframe thead th {\n",
              "        text-align: right;\n",
              "    }\n",
              "</style>\n",
              "<table border=\"1\" class=\"dataframe\">\n",
              "  <thead>\n",
              "    <tr style=\"text-align: right;\">\n",
              "      <th></th>\n",
              "      <th>bedroom</th>\n",
              "      <th>area</th>\n",
              "    </tr>\n",
              "  </thead>\n",
              "  <tbody>\n",
              "    <tr>\n",
              "      <th>count</th>\n",
              "      <td>8800.000000</td>\n",
              "      <td>8800.000000</td>\n",
              "    </tr>\n",
              "    <tr>\n",
              "      <th>mean</th>\n",
              "      <td>2.150682</td>\n",
              "      <td>1217.070455</td>\n",
              "    </tr>\n",
              "    <tr>\n",
              "      <th>std</th>\n",
              "      <td>0.897788</td>\n",
              "      <td>875.826098</td>\n",
              "    </tr>\n",
              "    <tr>\n",
              "      <th>min</th>\n",
              "      <td>1.000000</td>\n",
              "      <td>150.000000</td>\n",
              "    </tr>\n",
              "    <tr>\n",
              "      <th>25%</th>\n",
              "      <td>2.000000</td>\n",
              "      <td>750.000000</td>\n",
              "    </tr>\n",
              "    <tr>\n",
              "      <th>50%</th>\n",
              "      <td>2.000000</td>\n",
              "      <td>1000.000000</td>\n",
              "    </tr>\n",
              "    <tr>\n",
              "      <th>75%</th>\n",
              "      <td>3.000000</td>\n",
              "      <td>1400.000000</td>\n",
              "    </tr>\n",
              "    <tr>\n",
              "      <th>max</th>\n",
              "      <td>10.000000</td>\n",
              "      <td>12000.000000</td>\n",
              "    </tr>\n",
              "  </tbody>\n",
              "</table>\n",
              "</div>\n",
              "      <button class=\"colab-df-convert\" onclick=\"convertToInteractive('df-6680a990-330a-413c-91f0-f1bd75969fd5')\"\n",
              "              title=\"Convert this dataframe to an interactive table.\"\n",
              "              style=\"display:none;\">\n",
              "        \n",
              "  <svg xmlns=\"http://www.w3.org/2000/svg\" height=\"24px\"viewBox=\"0 0 24 24\"\n",
              "       width=\"24px\">\n",
              "    <path d=\"M0 0h24v24H0V0z\" fill=\"none\"/>\n",
              "    <path d=\"M18.56 5.44l.94 2.06.94-2.06 2.06-.94-2.06-.94-.94-2.06-.94 2.06-2.06.94zm-11 1L8.5 8.5l.94-2.06 2.06-.94-2.06-.94L8.5 2.5l-.94 2.06-2.06.94zm10 10l.94 2.06.94-2.06 2.06-.94-2.06-.94-.94-2.06-.94 2.06-2.06.94z\"/><path d=\"M17.41 7.96l-1.37-1.37c-.4-.4-.92-.59-1.43-.59-.52 0-1.04.2-1.43.59L10.3 9.45l-7.72 7.72c-.78.78-.78 2.05 0 2.83L4 21.41c.39.39.9.59 1.41.59.51 0 1.02-.2 1.41-.59l7.78-7.78 2.81-2.81c.8-.78.8-2.07 0-2.86zM5.41 20L4 18.59l7.72-7.72 1.47 1.35L5.41 20z\"/>\n",
              "  </svg>\n",
              "      </button>\n",
              "      \n",
              "  <style>\n",
              "    .colab-df-container {\n",
              "      display:flex;\n",
              "      flex-wrap:wrap;\n",
              "      gap: 12px;\n",
              "    }\n",
              "\n",
              "    .colab-df-convert {\n",
              "      background-color: #E8F0FE;\n",
              "      border: none;\n",
              "      border-radius: 50%;\n",
              "      cursor: pointer;\n",
              "      display: none;\n",
              "      fill: #1967D2;\n",
              "      height: 32px;\n",
              "      padding: 0 0 0 0;\n",
              "      width: 32px;\n",
              "    }\n",
              "\n",
              "    .colab-df-convert:hover {\n",
              "      background-color: #E2EBFA;\n",
              "      box-shadow: 0px 1px 2px rgba(60, 64, 67, 0.3), 0px 1px 3px 1px rgba(60, 64, 67, 0.15);\n",
              "      fill: #174EA6;\n",
              "    }\n",
              "\n",
              "    [theme=dark] .colab-df-convert {\n",
              "      background-color: #3B4455;\n",
              "      fill: #D2E3FC;\n",
              "    }\n",
              "\n",
              "    [theme=dark] .colab-df-convert:hover {\n",
              "      background-color: #434B5C;\n",
              "      box-shadow: 0px 1px 3px 1px rgba(0, 0, 0, 0.15);\n",
              "      filter: drop-shadow(0px 1px 2px rgba(0, 0, 0, 0.3));\n",
              "      fill: #FFFFFF;\n",
              "    }\n",
              "  </style>\n",
              "\n",
              "      <script>\n",
              "        const buttonEl =\n",
              "          document.querySelector('#df-6680a990-330a-413c-91f0-f1bd75969fd5 button.colab-df-convert');\n",
              "        buttonEl.style.display =\n",
              "          google.colab.kernel.accessAllowed ? 'block' : 'none';\n",
              "\n",
              "        async function convertToInteractive(key) {\n",
              "          const element = document.querySelector('#df-6680a990-330a-413c-91f0-f1bd75969fd5');\n",
              "          const dataTable =\n",
              "            await google.colab.kernel.invokeFunction('convertToInteractive',\n",
              "                                                     [key], {});\n",
              "          if (!dataTable) return;\n",
              "\n",
              "          const docLinkHtml = 'Like what you see? Visit the ' +\n",
              "            '<a target=\"_blank\" href=https://colab.research.google.com/notebooks/data_table.ipynb>data table notebook</a>'\n",
              "            + ' to learn more about interactive tables.';\n",
              "          element.innerHTML = '';\n",
              "          dataTable['output_type'] = 'display_data';\n",
              "          await google.colab.output.renderOutput(dataTable, element);\n",
              "          const docLink = document.createElement('div');\n",
              "          docLink.innerHTML = docLinkHtml;\n",
              "          element.appendChild(docLink);\n",
              "        }\n",
              "      </script>\n",
              "    </div>\n",
              "  </div>\n",
              "  "
            ],
            "text/plain": [
              "           bedroom          area\n",
              "count  8800.000000   8800.000000\n",
              "mean      2.150682   1217.070455\n",
              "std       0.897788    875.826098\n",
              "min       1.000000    150.000000\n",
              "25%       2.000000    750.000000\n",
              "50%       2.000000   1000.000000\n",
              "75%       3.000000   1400.000000\n",
              "max      10.000000  12000.000000"
            ]
          },
          "execution_count": 7,
          "metadata": {},
          "output_type": "execute_result"
        }
      ],
      "source": [
        "df.describe()"
      ]
    },
    {
      "cell_type": "code",
      "execution_count": 8,
      "metadata": {
        "colab": {
          "base_uri": "https://localhost:8080/"
        },
        "id": "c9DmOKM9Zz61",
        "outputId": "8da70404-a259-46ee-d5e6-312b8e0056a8"
      },
      "outputs": [
        {
          "data": {
            "text/plain": [
              "seller_type      483\n",
              "bedroom          483\n",
              "layout_type      483\n",
              "property_type    483\n",
              "locality         483\n",
              "price            483\n",
              "area             483\n",
              "furnish_type     483\n",
              "bathroom         579\n",
              "dtype: int64"
            ]
          },
          "execution_count": 8,
          "metadata": {},
          "output_type": "execute_result"
        }
      ],
      "source": [
        "# Checking for null values\n",
        "df.isnull().sum()"
      ]
    },
    {
      "cell_type": "code",
      "execution_count": 9,
      "metadata": {
        "id": "b7YRDg0IZ-y7"
      },
      "outputs": [],
      "source": [
        "df.drop_duplicates(inplace=True)"
      ]
    },
    {
      "cell_type": "code",
      "execution_count": 10,
      "metadata": {
        "id": "cL1oJQAtaQso"
      },
      "outputs": [],
      "source": [
        "df['bathroom']=df['bathroom'].str.replace('bathrooms','')"
      ]
    },
    {
      "cell_type": "code",
      "execution_count": 11,
      "metadata": {
        "colab": {
          "base_uri": "https://localhost:8080/"
        },
        "id": "MAV1lRuKZEKo",
        "outputId": "42a3aeb7-43a8-44fe-952d-1676476ef7eb"
      },
      "outputs": [
        {
          "data": {
            "text/plain": [
              "array(['Semi-Furnished', 'Unfurnished', 'Furnished', nan], dtype=object)"
            ]
          },
          "execution_count": 11,
          "metadata": {},
          "output_type": "execute_result"
        }
      ],
      "source": [
        "df['furnish_type'].unique()"
      ]
    },
    {
      "cell_type": "code",
      "execution_count": 12,
      "metadata": {
        "colab": {
          "base_uri": "https://localhost:8080/"
        },
        "id": "rlt5Q2VkYMbA",
        "outputId": "c957ccdf-6291-4c4d-9480-913090c89b59"
      },
      "outputs": [
        {
          "data": {
            "text/plain": [
              "array(['BHK', 'RK', nan], dtype=object)"
            ]
          },
          "execution_count": 12,
          "metadata": {},
          "output_type": "execute_result"
        }
      ],
      "source": [
        "df['layout_type'].unique()"
      ]
    },
    {
      "cell_type": "code",
      "execution_count": 13,
      "metadata": {
        "colab": {
          "base_uri": "https://localhost:8080/"
        },
        "id": "3mIej92aYZmY",
        "outputId": "ee57b4ce-1c33-4510-bb82-9b21f0299470"
      },
      "outputs": [
        {
          "data": {
            "text/plain": [
              "array(['Apartment', 'Independent House', 'Independent Floor',\n",
              "       'Studio Apartment', 'Villa', 'Penthouse', nan], dtype=object)"
            ]
          },
          "execution_count": 13,
          "metadata": {},
          "output_type": "execute_result"
        }
      ],
      "source": [
        "df['property_type'].unique()"
      ]
    },
    {
      "cell_type": "code",
      "execution_count": 14,
      "metadata": {
        "colab": {
          "base_uri": "https://localhost:8080/",
          "height": 423
        },
        "id": "lHu422Y2ZAHa",
        "outputId": "a9579cfa-a638-405a-aaba-a4430ff5ef4b"
      },
      "outputs": [
        {
          "data": {
            "text/html": [
              "\n",
              "  <div id=\"df-0a518069-bc09-474b-8048-852834aca0c7\">\n",
              "    <div class=\"colab-df-container\">\n",
              "      <div>\n",
              "<style scoped>\n",
              "    .dataframe tbody tr th:only-of-type {\n",
              "        vertical-align: middle;\n",
              "    }\n",
              "\n",
              "    .dataframe tbody tr th {\n",
              "        vertical-align: top;\n",
              "    }\n",
              "\n",
              "    .dataframe thead th {\n",
              "        text-align: right;\n",
              "    }\n",
              "</style>\n",
              "<table border=\"1\" class=\"dataframe\">\n",
              "  <thead>\n",
              "    <tr style=\"text-align: right;\">\n",
              "      <th></th>\n",
              "      <th>seller_type</th>\n",
              "      <th>bedroom</th>\n",
              "      <th>layout_type</th>\n",
              "      <th>property_type</th>\n",
              "      <th>locality</th>\n",
              "      <th>price</th>\n",
              "      <th>area</th>\n",
              "      <th>furnish_type</th>\n",
              "      <th>bathroom</th>\n",
              "    </tr>\n",
              "  </thead>\n",
              "  <tbody>\n",
              "    <tr>\n",
              "      <th>0</th>\n",
              "      <td>OWNER</td>\n",
              "      <td>3.0</td>\n",
              "      <td>BHK</td>\n",
              "      <td>Apartment</td>\n",
              "      <td>Ambattur</td>\n",
              "      <td>17,000</td>\n",
              "      <td>1570.0</td>\n",
              "      <td>Semi-Furnished</td>\n",
              "      <td>2</td>\n",
              "    </tr>\n",
              "    <tr>\n",
              "      <th>1</th>\n",
              "      <td>OWNER</td>\n",
              "      <td>2.0</td>\n",
              "      <td>BHK</td>\n",
              "      <td>Apartment</td>\n",
              "      <td>Kelambakkam</td>\n",
              "      <td>16,000</td>\n",
              "      <td>1402.0</td>\n",
              "      <td>Semi-Furnished</td>\n",
              "      <td>2</td>\n",
              "    </tr>\n",
              "    <tr>\n",
              "      <th>2</th>\n",
              "      <td>OWNER</td>\n",
              "      <td>2.0</td>\n",
              "      <td>BHK</td>\n",
              "      <td>Apartment</td>\n",
              "      <td>Adyar</td>\n",
              "      <td>20,000</td>\n",
              "      <td>800.0</td>\n",
              "      <td>Semi-Furnished</td>\n",
              "      <td>2</td>\n",
              "    </tr>\n",
              "    <tr>\n",
              "      <th>3</th>\n",
              "      <td>OWNER</td>\n",
              "      <td>2.0</td>\n",
              "      <td>BHK</td>\n",
              "      <td>Apartment</td>\n",
              "      <td>Sembakkam</td>\n",
              "      <td>14,000</td>\n",
              "      <td>1180.0</td>\n",
              "      <td>Unfurnished</td>\n",
              "      <td>2</td>\n",
              "    </tr>\n",
              "    <tr>\n",
              "      <th>4</th>\n",
              "      <td>OWNER</td>\n",
              "      <td>1.0</td>\n",
              "      <td>BHK</td>\n",
              "      <td>Independent House</td>\n",
              "      <td>Mogappair</td>\n",
              "      <td>7,000</td>\n",
              "      <td>400.0</td>\n",
              "      <td>Unfurnished</td>\n",
              "      <td>1</td>\n",
              "    </tr>\n",
              "    <tr>\n",
              "      <th>...</th>\n",
              "      <td>...</td>\n",
              "      <td>...</td>\n",
              "      <td>...</td>\n",
              "      <td>...</td>\n",
              "      <td>...</td>\n",
              "      <td>...</td>\n",
              "      <td>...</td>\n",
              "      <td>...</td>\n",
              "      <td>...</td>\n",
              "    </tr>\n",
              "    <tr>\n",
              "      <th>9278</th>\n",
              "      <td>OWNER</td>\n",
              "      <td>3.0</td>\n",
              "      <td>BHK</td>\n",
              "      <td>Apartment</td>\n",
              "      <td>Thoraipakkam OMR</td>\n",
              "      <td>50,000</td>\n",
              "      <td>1850.0</td>\n",
              "      <td>Furnished</td>\n",
              "      <td>3</td>\n",
              "    </tr>\n",
              "    <tr>\n",
              "      <th>9279</th>\n",
              "      <td>OWNER</td>\n",
              "      <td>2.0</td>\n",
              "      <td>BHK</td>\n",
              "      <td>Independent Floor</td>\n",
              "      <td>Sithalapakkam</td>\n",
              "      <td>13,000</td>\n",
              "      <td>1000.0</td>\n",
              "      <td>Semi-Furnished</td>\n",
              "      <td>2</td>\n",
              "    </tr>\n",
              "    <tr>\n",
              "      <th>9280</th>\n",
              "      <td>OWNER</td>\n",
              "      <td>1.0</td>\n",
              "      <td>BHK</td>\n",
              "      <td>Independent Floor</td>\n",
              "      <td>Royapettah</td>\n",
              "      <td>10,000</td>\n",
              "      <td>460.0</td>\n",
              "      <td>Unfurnished</td>\n",
              "      <td>1</td>\n",
              "    </tr>\n",
              "    <tr>\n",
              "      <th>9281</th>\n",
              "      <td>OWNER</td>\n",
              "      <td>2.0</td>\n",
              "      <td>BHK</td>\n",
              "      <td>Independent Floor</td>\n",
              "      <td>Ramavaram</td>\n",
              "      <td>8,000</td>\n",
              "      <td>700.0</td>\n",
              "      <td>Unfurnished</td>\n",
              "      <td>1</td>\n",
              "    </tr>\n",
              "    <tr>\n",
              "      <th>9282</th>\n",
              "      <td>OWNER</td>\n",
              "      <td>1.0</td>\n",
              "      <td>RK</td>\n",
              "      <td>Studio Apartment</td>\n",
              "      <td>Mogappair East</td>\n",
              "      <td>3,500</td>\n",
              "      <td>300.0</td>\n",
              "      <td>Unfurnished</td>\n",
              "      <td>1</td>\n",
              "    </tr>\n",
              "  </tbody>\n",
              "</table>\n",
              "<p>6345 rows × 9 columns</p>\n",
              "</div>\n",
              "      <button class=\"colab-df-convert\" onclick=\"convertToInteractive('df-0a518069-bc09-474b-8048-852834aca0c7')\"\n",
              "              title=\"Convert this dataframe to an interactive table.\"\n",
              "              style=\"display:none;\">\n",
              "        \n",
              "  <svg xmlns=\"http://www.w3.org/2000/svg\" height=\"24px\"viewBox=\"0 0 24 24\"\n",
              "       width=\"24px\">\n",
              "    <path d=\"M0 0h24v24H0V0z\" fill=\"none\"/>\n",
              "    <path d=\"M18.56 5.44l.94 2.06.94-2.06 2.06-.94-2.06-.94-.94-2.06-.94 2.06-2.06.94zm-11 1L8.5 8.5l.94-2.06 2.06-.94-2.06-.94L8.5 2.5l-.94 2.06-2.06.94zm10 10l.94 2.06.94-2.06 2.06-.94-2.06-.94-.94-2.06-.94 2.06-2.06.94z\"/><path d=\"M17.41 7.96l-1.37-1.37c-.4-.4-.92-.59-1.43-.59-.52 0-1.04.2-1.43.59L10.3 9.45l-7.72 7.72c-.78.78-.78 2.05 0 2.83L4 21.41c.39.39.9.59 1.41.59.51 0 1.02-.2 1.41-.59l7.78-7.78 2.81-2.81c.8-.78.8-2.07 0-2.86zM5.41 20L4 18.59l7.72-7.72 1.47 1.35L5.41 20z\"/>\n",
              "  </svg>\n",
              "      </button>\n",
              "      \n",
              "  <style>\n",
              "    .colab-df-container {\n",
              "      display:flex;\n",
              "      flex-wrap:wrap;\n",
              "      gap: 12px;\n",
              "    }\n",
              "\n",
              "    .colab-df-convert {\n",
              "      background-color: #E8F0FE;\n",
              "      border: none;\n",
              "      border-radius: 50%;\n",
              "      cursor: pointer;\n",
              "      display: none;\n",
              "      fill: #1967D2;\n",
              "      height: 32px;\n",
              "      padding: 0 0 0 0;\n",
              "      width: 32px;\n",
              "    }\n",
              "\n",
              "    .colab-df-convert:hover {\n",
              "      background-color: #E2EBFA;\n",
              "      box-shadow: 0px 1px 2px rgba(60, 64, 67, 0.3), 0px 1px 3px 1px rgba(60, 64, 67, 0.15);\n",
              "      fill: #174EA6;\n",
              "    }\n",
              "\n",
              "    [theme=dark] .colab-df-convert {\n",
              "      background-color: #3B4455;\n",
              "      fill: #D2E3FC;\n",
              "    }\n",
              "\n",
              "    [theme=dark] .colab-df-convert:hover {\n",
              "      background-color: #434B5C;\n",
              "      box-shadow: 0px 1px 3px 1px rgba(0, 0, 0, 0.15);\n",
              "      filter: drop-shadow(0px 1px 2px rgba(0, 0, 0, 0.3));\n",
              "      fill: #FFFFFF;\n",
              "    }\n",
              "  </style>\n",
              "\n",
              "      <script>\n",
              "        const buttonEl =\n",
              "          document.querySelector('#df-0a518069-bc09-474b-8048-852834aca0c7 button.colab-df-convert');\n",
              "        buttonEl.style.display =\n",
              "          google.colab.kernel.accessAllowed ? 'block' : 'none';\n",
              "\n",
              "        async function convertToInteractive(key) {\n",
              "          const element = document.querySelector('#df-0a518069-bc09-474b-8048-852834aca0c7');\n",
              "          const dataTable =\n",
              "            await google.colab.kernel.invokeFunction('convertToInteractive',\n",
              "                                                     [key], {});\n",
              "          if (!dataTable) return;\n",
              "\n",
              "          const docLinkHtml = 'Like what you see? Visit the ' +\n",
              "            '<a target=\"_blank\" href=https://colab.research.google.com/notebooks/data_table.ipynb>data table notebook</a>'\n",
              "            + ' to learn more about interactive tables.';\n",
              "          element.innerHTML = '';\n",
              "          dataTable['output_type'] = 'display_data';\n",
              "          await google.colab.output.renderOutput(dataTable, element);\n",
              "          const docLink = document.createElement('div');\n",
              "          docLink.innerHTML = docLinkHtml;\n",
              "          element.appendChild(docLink);\n",
              "        }\n",
              "      </script>\n",
              "    </div>\n",
              "  </div>\n",
              "  "
            ],
            "text/plain": [
              "     seller_type  bedroom layout_type      property_type          locality  \\\n",
              "0          OWNER      3.0         BHK          Apartment          Ambattur   \n",
              "1          OWNER      2.0         BHK          Apartment       Kelambakkam   \n",
              "2          OWNER      2.0         BHK          Apartment             Adyar   \n",
              "3          OWNER      2.0         BHK          Apartment         Sembakkam   \n",
              "4          OWNER      1.0         BHK  Independent House         Mogappair   \n",
              "...          ...      ...         ...                ...               ...   \n",
              "9278       OWNER      3.0         BHK          Apartment  Thoraipakkam OMR   \n",
              "9279       OWNER      2.0         BHK  Independent Floor     Sithalapakkam   \n",
              "9280       OWNER      1.0         BHK  Independent Floor        Royapettah   \n",
              "9281       OWNER      2.0         BHK  Independent Floor         Ramavaram   \n",
              "9282       OWNER      1.0          RK   Studio Apartment    Mogappair East   \n",
              "\n",
              "       price    area    furnish_type bathroom  \n",
              "0     17,000  1570.0  Semi-Furnished       2   \n",
              "1     16,000  1402.0  Semi-Furnished       2   \n",
              "2     20,000   800.0  Semi-Furnished       2   \n",
              "3     14,000  1180.0     Unfurnished       2   \n",
              "4      7,000   400.0     Unfurnished       1   \n",
              "...      ...     ...             ...      ...  \n",
              "9278  50,000  1850.0       Furnished       3   \n",
              "9279  13,000  1000.0  Semi-Furnished       2   \n",
              "9280  10,000   460.0     Unfurnished       1   \n",
              "9281   8,000   700.0     Unfurnished       1   \n",
              "9282   3,500   300.0     Unfurnished       1   \n",
              "\n",
              "[6345 rows x 9 columns]"
            ]
          },
          "execution_count": 14,
          "metadata": {},
          "output_type": "execute_result"
        }
      ],
      "source": [
        "df"
      ]
    },
    {
      "cell_type": "code",
      "execution_count": 15,
      "metadata": {
        "colab": {
          "base_uri": "https://localhost:8080/"
        },
        "id": "pfGQMZZNdRBX",
        "outputId": "48e02598-057e-45c9-8de7-c551ff430ef6"
      },
      "outputs": [
        {
          "data": {
            "text/plain": [
              "array(['2 ', '1 ', '3 ', '4 ', nan, '5 ', 'East facing', '6 ',\n",
              "       'North facing', '7 ', 'West facing', 'NorthEast facing', '9 ',\n",
              "       '8 ', 'South facing', '10 '], dtype=object)"
            ]
          },
          "execution_count": 15,
          "metadata": {},
          "output_type": "execute_result"
        }
      ],
      "source": [
        "df['bathroom'].unique()"
      ]
    },
    {
      "cell_type": "code",
      "execution_count": 16,
      "metadata": {
        "id": "NTBDWgW0cm_7"
      },
      "outputs": [],
      "source": [
        "df['bathroom']=df['bathroom'].str.replace('East facing','10')\n",
        "df['bathroom']=df['bathroom'].str.replace('North facing','11')\n",
        "df['bathroom']=df['bathroom'].str.replace('West facing','12')\n",
        "df['bathroom']=df['bathroom'].str.replace('NorthEast facing','13')\n",
        "df['bathroom']=df['bathroom'].str.replace('South facing','14')\n",
        "df['bathroom']=df['bathroom'].str.replace('North10','15')"
      ]
    },
    {
      "cell_type": "code",
      "execution_count": 17,
      "metadata": {
        "colab": {
          "base_uri": "https://localhost:8080/"
        },
        "id": "NH0Om_jKdzHD",
        "outputId": "79087be7-b9ff-4361-bee2-c6226b4477cd"
      },
      "outputs": [
        {
          "data": {
            "text/plain": [
              "array(['2 ', '1 ', '3 ', '4 ', nan, '5 ', '10', '6 ', '11', '7 ', '12',\n",
              "       '15', '9 ', '8 ', '14', '10 '], dtype=object)"
            ]
          },
          "execution_count": 17,
          "metadata": {},
          "output_type": "execute_result"
        }
      ],
      "source": [
        "df['bathroom'].unique()"
      ]
    },
    {
      "cell_type": "code",
      "execution_count": 18,
      "metadata": {
        "id": "oUy_r94dbICW"
      },
      "outputs": [],
      "source": [
        "df.dropna(axis=0,inplace=True)"
      ]
    },
    {
      "cell_type": "code",
      "execution_count": 19,
      "metadata": {
        "id": "Dnh-08Czawxl"
      },
      "outputs": [],
      "source": [
        "df['bathroom']=df['bathroom'].astype(float)"
      ]
    },
    {
      "cell_type": "code",
      "execution_count": 20,
      "metadata": {
        "colab": {
          "base_uri": "https://localhost:8080/"
        },
        "id": "Fk65ZZN6bAaT",
        "outputId": "43ebb160-0b69-4c61-f6d1-c9832cf39270"
      },
      "outputs": [
        {
          "name": "stdout",
          "output_type": "stream",
          "text": [
            "<class 'pandas.core.frame.DataFrame'>\n",
            "Int64Index: 6258 entries, 0 to 9282\n",
            "Data columns (total 9 columns):\n",
            " #   Column         Non-Null Count  Dtype  \n",
            "---  ------         --------------  -----  \n",
            " 0   seller_type    6258 non-null   object \n",
            " 1   bedroom        6258 non-null   float64\n",
            " 2   layout_type    6258 non-null   object \n",
            " 3   property_type  6258 non-null   object \n",
            " 4   locality       6258 non-null   object \n",
            " 5   price          6258 non-null   object \n",
            " 6   area           6258 non-null   float64\n",
            " 7   furnish_type   6258 non-null   object \n",
            " 8   bathroom       6258 non-null   float64\n",
            "dtypes: float64(3), object(6)\n",
            "memory usage: 488.9+ KB\n"
          ]
        }
      ],
      "source": [
        "df.info()"
      ]
    },
    {
      "cell_type": "code",
      "execution_count": 21,
      "metadata": {
        "colab": {
          "base_uri": "https://localhost:8080/",
          "height": 423
        },
        "id": "AJnWHTMbeoVn",
        "outputId": "d0b5b066-98ee-40d4-8996-e4b9fd55678a"
      },
      "outputs": [
        {
          "data": {
            "text/html": [
              "\n",
              "  <div id=\"df-edac9286-e94b-4ca5-97f4-ad12b4db18e2\">\n",
              "    <div class=\"colab-df-container\">\n",
              "      <div>\n",
              "<style scoped>\n",
              "    .dataframe tbody tr th:only-of-type {\n",
              "        vertical-align: middle;\n",
              "    }\n",
              "\n",
              "    .dataframe tbody tr th {\n",
              "        vertical-align: top;\n",
              "    }\n",
              "\n",
              "    .dataframe thead th {\n",
              "        text-align: right;\n",
              "    }\n",
              "</style>\n",
              "<table border=\"1\" class=\"dataframe\">\n",
              "  <thead>\n",
              "    <tr style=\"text-align: right;\">\n",
              "      <th></th>\n",
              "      <th>seller_type</th>\n",
              "      <th>bedroom</th>\n",
              "      <th>layout_type</th>\n",
              "      <th>property_type</th>\n",
              "      <th>locality</th>\n",
              "      <th>price</th>\n",
              "      <th>area</th>\n",
              "      <th>furnish_type</th>\n",
              "      <th>bathroom</th>\n",
              "    </tr>\n",
              "  </thead>\n",
              "  <tbody>\n",
              "    <tr>\n",
              "      <th>0</th>\n",
              "      <td>OWNER</td>\n",
              "      <td>3.0</td>\n",
              "      <td>BHK</td>\n",
              "      <td>Apartment</td>\n",
              "      <td>Ambattur</td>\n",
              "      <td>17,000</td>\n",
              "      <td>1570.0</td>\n",
              "      <td>Semi-Furnished</td>\n",
              "      <td>2.0</td>\n",
              "    </tr>\n",
              "    <tr>\n",
              "      <th>1</th>\n",
              "      <td>OWNER</td>\n",
              "      <td>2.0</td>\n",
              "      <td>BHK</td>\n",
              "      <td>Apartment</td>\n",
              "      <td>Kelambakkam</td>\n",
              "      <td>16,000</td>\n",
              "      <td>1402.0</td>\n",
              "      <td>Semi-Furnished</td>\n",
              "      <td>2.0</td>\n",
              "    </tr>\n",
              "    <tr>\n",
              "      <th>2</th>\n",
              "      <td>OWNER</td>\n",
              "      <td>2.0</td>\n",
              "      <td>BHK</td>\n",
              "      <td>Apartment</td>\n",
              "      <td>Adyar</td>\n",
              "      <td>20,000</td>\n",
              "      <td>800.0</td>\n",
              "      <td>Semi-Furnished</td>\n",
              "      <td>2.0</td>\n",
              "    </tr>\n",
              "    <tr>\n",
              "      <th>3</th>\n",
              "      <td>OWNER</td>\n",
              "      <td>2.0</td>\n",
              "      <td>BHK</td>\n",
              "      <td>Apartment</td>\n",
              "      <td>Sembakkam</td>\n",
              "      <td>14,000</td>\n",
              "      <td>1180.0</td>\n",
              "      <td>Unfurnished</td>\n",
              "      <td>2.0</td>\n",
              "    </tr>\n",
              "    <tr>\n",
              "      <th>4</th>\n",
              "      <td>OWNER</td>\n",
              "      <td>1.0</td>\n",
              "      <td>BHK</td>\n",
              "      <td>Independent House</td>\n",
              "      <td>Mogappair</td>\n",
              "      <td>7,000</td>\n",
              "      <td>400.0</td>\n",
              "      <td>Unfurnished</td>\n",
              "      <td>1.0</td>\n",
              "    </tr>\n",
              "    <tr>\n",
              "      <th>...</th>\n",
              "      <td>...</td>\n",
              "      <td>...</td>\n",
              "      <td>...</td>\n",
              "      <td>...</td>\n",
              "      <td>...</td>\n",
              "      <td>...</td>\n",
              "      <td>...</td>\n",
              "      <td>...</td>\n",
              "      <td>...</td>\n",
              "    </tr>\n",
              "    <tr>\n",
              "      <th>9278</th>\n",
              "      <td>OWNER</td>\n",
              "      <td>3.0</td>\n",
              "      <td>BHK</td>\n",
              "      <td>Apartment</td>\n",
              "      <td>Thoraipakkam OMR</td>\n",
              "      <td>50,000</td>\n",
              "      <td>1850.0</td>\n",
              "      <td>Furnished</td>\n",
              "      <td>3.0</td>\n",
              "    </tr>\n",
              "    <tr>\n",
              "      <th>9279</th>\n",
              "      <td>OWNER</td>\n",
              "      <td>2.0</td>\n",
              "      <td>BHK</td>\n",
              "      <td>Independent Floor</td>\n",
              "      <td>Sithalapakkam</td>\n",
              "      <td>13,000</td>\n",
              "      <td>1000.0</td>\n",
              "      <td>Semi-Furnished</td>\n",
              "      <td>2.0</td>\n",
              "    </tr>\n",
              "    <tr>\n",
              "      <th>9280</th>\n",
              "      <td>OWNER</td>\n",
              "      <td>1.0</td>\n",
              "      <td>BHK</td>\n",
              "      <td>Independent Floor</td>\n",
              "      <td>Royapettah</td>\n",
              "      <td>10,000</td>\n",
              "      <td>460.0</td>\n",
              "      <td>Unfurnished</td>\n",
              "      <td>1.0</td>\n",
              "    </tr>\n",
              "    <tr>\n",
              "      <th>9281</th>\n",
              "      <td>OWNER</td>\n",
              "      <td>2.0</td>\n",
              "      <td>BHK</td>\n",
              "      <td>Independent Floor</td>\n",
              "      <td>Ramavaram</td>\n",
              "      <td>8,000</td>\n",
              "      <td>700.0</td>\n",
              "      <td>Unfurnished</td>\n",
              "      <td>1.0</td>\n",
              "    </tr>\n",
              "    <tr>\n",
              "      <th>9282</th>\n",
              "      <td>OWNER</td>\n",
              "      <td>1.0</td>\n",
              "      <td>RK</td>\n",
              "      <td>Studio Apartment</td>\n",
              "      <td>Mogappair East</td>\n",
              "      <td>3,500</td>\n",
              "      <td>300.0</td>\n",
              "      <td>Unfurnished</td>\n",
              "      <td>1.0</td>\n",
              "    </tr>\n",
              "  </tbody>\n",
              "</table>\n",
              "<p>6258 rows × 9 columns</p>\n",
              "</div>\n",
              "      <button class=\"colab-df-convert\" onclick=\"convertToInteractive('df-edac9286-e94b-4ca5-97f4-ad12b4db18e2')\"\n",
              "              title=\"Convert this dataframe to an interactive table.\"\n",
              "              style=\"display:none;\">\n",
              "        \n",
              "  <svg xmlns=\"http://www.w3.org/2000/svg\" height=\"24px\"viewBox=\"0 0 24 24\"\n",
              "       width=\"24px\">\n",
              "    <path d=\"M0 0h24v24H0V0z\" fill=\"none\"/>\n",
              "    <path d=\"M18.56 5.44l.94 2.06.94-2.06 2.06-.94-2.06-.94-.94-2.06-.94 2.06-2.06.94zm-11 1L8.5 8.5l.94-2.06 2.06-.94-2.06-.94L8.5 2.5l-.94 2.06-2.06.94zm10 10l.94 2.06.94-2.06 2.06-.94-2.06-.94-.94-2.06-.94 2.06-2.06.94z\"/><path d=\"M17.41 7.96l-1.37-1.37c-.4-.4-.92-.59-1.43-.59-.52 0-1.04.2-1.43.59L10.3 9.45l-7.72 7.72c-.78.78-.78 2.05 0 2.83L4 21.41c.39.39.9.59 1.41.59.51 0 1.02-.2 1.41-.59l7.78-7.78 2.81-2.81c.8-.78.8-2.07 0-2.86zM5.41 20L4 18.59l7.72-7.72 1.47 1.35L5.41 20z\"/>\n",
              "  </svg>\n",
              "      </button>\n",
              "      \n",
              "  <style>\n",
              "    .colab-df-container {\n",
              "      display:flex;\n",
              "      flex-wrap:wrap;\n",
              "      gap: 12px;\n",
              "    }\n",
              "\n",
              "    .colab-df-convert {\n",
              "      background-color: #E8F0FE;\n",
              "      border: none;\n",
              "      border-radius: 50%;\n",
              "      cursor: pointer;\n",
              "      display: none;\n",
              "      fill: #1967D2;\n",
              "      height: 32px;\n",
              "      padding: 0 0 0 0;\n",
              "      width: 32px;\n",
              "    }\n",
              "\n",
              "    .colab-df-convert:hover {\n",
              "      background-color: #E2EBFA;\n",
              "      box-shadow: 0px 1px 2px rgba(60, 64, 67, 0.3), 0px 1px 3px 1px rgba(60, 64, 67, 0.15);\n",
              "      fill: #174EA6;\n",
              "    }\n",
              "\n",
              "    [theme=dark] .colab-df-convert {\n",
              "      background-color: #3B4455;\n",
              "      fill: #D2E3FC;\n",
              "    }\n",
              "\n",
              "    [theme=dark] .colab-df-convert:hover {\n",
              "      background-color: #434B5C;\n",
              "      box-shadow: 0px 1px 3px 1px rgba(0, 0, 0, 0.15);\n",
              "      filter: drop-shadow(0px 1px 2px rgba(0, 0, 0, 0.3));\n",
              "      fill: #FFFFFF;\n",
              "    }\n",
              "  </style>\n",
              "\n",
              "      <script>\n",
              "        const buttonEl =\n",
              "          document.querySelector('#df-edac9286-e94b-4ca5-97f4-ad12b4db18e2 button.colab-df-convert');\n",
              "        buttonEl.style.display =\n",
              "          google.colab.kernel.accessAllowed ? 'block' : 'none';\n",
              "\n",
              "        async function convertToInteractive(key) {\n",
              "          const element = document.querySelector('#df-edac9286-e94b-4ca5-97f4-ad12b4db18e2');\n",
              "          const dataTable =\n",
              "            await google.colab.kernel.invokeFunction('convertToInteractive',\n",
              "                                                     [key], {});\n",
              "          if (!dataTable) return;\n",
              "\n",
              "          const docLinkHtml = 'Like what you see? Visit the ' +\n",
              "            '<a target=\"_blank\" href=https://colab.research.google.com/notebooks/data_table.ipynb>data table notebook</a>'\n",
              "            + ' to learn more about interactive tables.';\n",
              "          element.innerHTML = '';\n",
              "          dataTable['output_type'] = 'display_data';\n",
              "          await google.colab.output.renderOutput(dataTable, element);\n",
              "          const docLink = document.createElement('div');\n",
              "          docLink.innerHTML = docLinkHtml;\n",
              "          element.appendChild(docLink);\n",
              "        }\n",
              "      </script>\n",
              "    </div>\n",
              "  </div>\n",
              "  "
            ],
            "text/plain": [
              "     seller_type  bedroom layout_type      property_type          locality  \\\n",
              "0          OWNER      3.0         BHK          Apartment          Ambattur   \n",
              "1          OWNER      2.0         BHK          Apartment       Kelambakkam   \n",
              "2          OWNER      2.0         BHK          Apartment             Adyar   \n",
              "3          OWNER      2.0         BHK          Apartment         Sembakkam   \n",
              "4          OWNER      1.0         BHK  Independent House         Mogappair   \n",
              "...          ...      ...         ...                ...               ...   \n",
              "9278       OWNER      3.0         BHK          Apartment  Thoraipakkam OMR   \n",
              "9279       OWNER      2.0         BHK  Independent Floor     Sithalapakkam   \n",
              "9280       OWNER      1.0         BHK  Independent Floor        Royapettah   \n",
              "9281       OWNER      2.0         BHK  Independent Floor         Ramavaram   \n",
              "9282       OWNER      1.0          RK   Studio Apartment    Mogappair East   \n",
              "\n",
              "       price    area    furnish_type  bathroom  \n",
              "0     17,000  1570.0  Semi-Furnished       2.0  \n",
              "1     16,000  1402.0  Semi-Furnished       2.0  \n",
              "2     20,000   800.0  Semi-Furnished       2.0  \n",
              "3     14,000  1180.0     Unfurnished       2.0  \n",
              "4      7,000   400.0     Unfurnished       1.0  \n",
              "...      ...     ...             ...       ...  \n",
              "9278  50,000  1850.0       Furnished       3.0  \n",
              "9279  13,000  1000.0  Semi-Furnished       2.0  \n",
              "9280  10,000   460.0     Unfurnished       1.0  \n",
              "9281   8,000   700.0     Unfurnished       1.0  \n",
              "9282   3,500   300.0     Unfurnished       1.0  \n",
              "\n",
              "[6258 rows x 9 columns]"
            ]
          },
          "execution_count": 21,
          "metadata": {},
          "output_type": "execute_result"
        }
      ],
      "source": [
        "df"
      ]
    },
    {
      "cell_type": "code",
      "execution_count": 22,
      "metadata": {
        "id": "B9eTz13Se071"
      },
      "outputs": [],
      "source": [
        "df['price']=df['price'].str.replace(',','').astype('float')"
      ]
    },
    {
      "cell_type": "markdown",
      "metadata": {
        "id": "DE_MgtYqzJrH"
      },
      "source": [
        "## Visualization Using Matplotlib and Seaborn"
      ]
    },
    {
      "cell_type": "code",
      "execution_count": 23,
      "metadata": {
        "colab": {
          "base_uri": "https://localhost:8080/",
          "height": 386
        },
        "id": "1Qybiju7zjhn",
        "outputId": "84af83be-4c2c-4fa9-ce73-32483d91d148"
      },
      "outputs": [
        {
          "data": {
            "text/plain": [
              "<seaborn.axisgrid.FacetGrid at 0x7faddcadf290>"
            ]
          },
          "execution_count": 23,
          "metadata": {},
          "output_type": "execute_result"
        },
        {
          "data": {
            "image/png": "[encoded data removed]",
            "text/plain": [
              "<Figure size 360x360 with 1 Axes>"
            ]
          },
          "metadata": {
            "needs_background": "light"
          },
          "output_type": "display_data"
        }
      ],
      "source": [
        "sns.catplot(x='bedroom',kind='count',data=df)"
      ]
    },
    {
      "cell_type": "code",
      "execution_count": 24,
      "metadata": {
        "colab": {
          "base_uri": "https://localhost:8080/",
          "height": 296
        },
        "id": "UanZ93dPNNIr",
        "outputId": "027f8a9e-c889-4033-fcf8-55d3f039cc1c"
      },
      "outputs": [
        {
          "data": {
            "text/plain": [
              "<matplotlib.axes._subplots.AxesSubplot at 0x7fadd9c6aad0>"
            ]
          },
          "execution_count": 24,
          "metadata": {},
          "output_type": "execute_result"
        },
        {
          "data": {
            "image/png": "[encoded data removed]",
            "text/plain": [
              "<Figure size 432x288 with 1 Axes>"
            ]
          },
          "metadata": {
            "needs_background": "light"
          },
          "output_type": "display_data"
        }
      ],
      "source": [
        "sns.histplot(df['bathroom'],kde=True)"
      ]
    },
    {
      "cell_type": "markdown",
      "metadata": {
        "id": "5JAvZQj_zQww"
      },
      "source": [
        "## Preprocessing"
      ]
    },
    {
      "cell_type": "code",
      "execution_count": 25,
      "metadata": {
        "colab": {
          "base_uri": "https://localhost:8080/",
          "height": 206
        },
        "id": "smqQ7_mENtM4",
        "outputId": "b0b9603c-1f9c-424e-8b55-4d9675968032"
      },
      "outputs": [
        {
          "data": {
            "text/html": [
              "\n",
              "  <div id=\"df-0f46304c-ab06-4058-b8c4-29e825e58e7a\">\n",
              "    <div class=\"colab-df-container\">\n",
              "      <div>\n",
              "<style scoped>\n",
              "    .dataframe tbody tr th:only-of-type {\n",
              "        vertical-align: middle;\n",
              "    }\n",
              "\n",
              "    .dataframe tbody tr th {\n",
              "        vertical-align: top;\n",
              "    }\n",
              "\n",
              "    .dataframe thead th {\n",
              "        text-align: right;\n",
              "    }\n",
              "</style>\n",
              "<table border=\"1\" class=\"dataframe\">\n",
              "  <thead>\n",
              "    <tr style=\"text-align: right;\">\n",
              "      <th></th>\n",
              "      <th>seller_type</th>\n",
              "      <th>bedroom</th>\n",
              "      <th>layout_type</th>\n",
              "      <th>property_type</th>\n",
              "      <th>locality</th>\n",
              "      <th>price</th>\n",
              "      <th>area</th>\n",
              "      <th>furnish_type</th>\n",
              "      <th>bathroom</th>\n",
              "    </tr>\n",
              "  </thead>\n",
              "  <tbody>\n",
              "    <tr>\n",
              "      <th>0</th>\n",
              "      <td>OWNER</td>\n",
              "      <td>3.0</td>\n",
              "      <td>BHK</td>\n",
              "      <td>Apartment</td>\n",
              "      <td>Ambattur</td>\n",
              "      <td>17000.0</td>\n",
              "      <td>1570.0</td>\n",
              "      <td>Semi-Furnished</td>\n",
              "      <td>2.0</td>\n",
              "    </tr>\n",
              "    <tr>\n",
              "      <th>1</th>\n",
              "      <td>OWNER</td>\n",
              "      <td>2.0</td>\n",
              "      <td>BHK</td>\n",
              "      <td>Apartment</td>\n",
              "      <td>Kelambakkam</td>\n",
              "      <td>16000.0</td>\n",
              "      <td>1402.0</td>\n",
              "      <td>Semi-Furnished</td>\n",
              "      <td>2.0</td>\n",
              "    </tr>\n",
              "    <tr>\n",
              "      <th>2</th>\n",
              "      <td>OWNER</td>\n",
              "      <td>2.0</td>\n",
              "      <td>BHK</td>\n",
              "      <td>Apartment</td>\n",
              "      <td>Adyar</td>\n",
              "      <td>20000.0</td>\n",
              "      <td>800.0</td>\n",
              "      <td>Semi-Furnished</td>\n",
              "      <td>2.0</td>\n",
              "    </tr>\n",
              "    <tr>\n",
              "      <th>3</th>\n",
              "      <td>OWNER</td>\n",
              "      <td>2.0</td>\n",
              "      <td>BHK</td>\n",
              "      <td>Apartment</td>\n",
              "      <td>Sembakkam</td>\n",
              "      <td>14000.0</td>\n",
              "      <td>1180.0</td>\n",
              "      <td>Unfurnished</td>\n",
              "      <td>2.0</td>\n",
              "    </tr>\n",
              "    <tr>\n",
              "      <th>4</th>\n",
              "      <td>OWNER</td>\n",
              "      <td>1.0</td>\n",
              "      <td>BHK</td>\n",
              "      <td>Independent House</td>\n",
              "      <td>Mogappair</td>\n",
              "      <td>7000.0</td>\n",
              "      <td>400.0</td>\n",
              "      <td>Unfurnished</td>\n",
              "      <td>1.0</td>\n",
              "    </tr>\n",
              "  </tbody>\n",
              "</table>\n",
              "</div>\n",
              "      <button class=\"colab-df-convert\" onclick=\"convertToInteractive('df-0f46304c-ab06-4058-b8c4-29e825e58e7a')\"\n",
              "              title=\"Convert this dataframe to an interactive table.\"\n",
              "              style=\"display:none;\">\n",
              "        \n",
              "  <svg xmlns=\"http://www.w3.org/2000/svg\" height=\"24px\"viewBox=\"0 0 24 24\"\n",
              "       width=\"24px\">\n",
              "    <path d=\"M0 0h24v24H0V0z\" fill=\"none\"/>\n",
              "    <path d=\"M18.56 5.44l.94 2.06.94-2.06 2.06-.94-2.06-.94-.94-2.06-.94 2.06-2.06.94zm-11 1L8.5 8.5l.94-2.06 2.06-.94-2.06-.94L8.5 2.5l-.94 2.06-2.06.94zm10 10l.94 2.06.94-2.06 2.06-.94-2.06-.94-.94-2.06-.94 2.06-2.06.94z\"/><path d=\"M17.41 7.96l-1.37-1.37c-.4-.4-.92-.59-1.43-.59-.52 0-1.04.2-1.43.59L10.3 9.45l-7.72 7.72c-.78.78-.78 2.05 0 2.83L4 21.41c.39.39.9.59 1.41.59.51 0 1.02-.2 1.41-.59l7.78-7.78 2.81-2.81c.8-.78.8-2.07 0-2.86zM5.41 20L4 18.59l7.72-7.72 1.47 1.35L5.41 20z\"/>\n",
              "  </svg>\n",
              "      </button>\n",
              "      \n",
              "  <style>\n",
              "    .colab-df-container {\n",
              "      display:flex;\n",
              "      flex-wrap:wrap;\n",
              "      gap: 12px;\n",
              "    }\n",
              "\n",
              "    .colab-df-convert {\n",
              "      background-color: #E8F0FE;\n",
              "      border: none;\n",
              "      border-radius: 50%;\n",
              "      cursor: pointer;\n",
              "      display: none;\n",
              "      fill: #1967D2;\n",
              "      height: 32px;\n",
              "      padding: 0 0 0 0;\n",
              "      width: 32px;\n",
              "    }\n",
              "\n",
              "    .colab-df-convert:hover {\n",
              "      background-color: #E2EBFA;\n",
              "      box-shadow: 0px 1px 2px rgba(60, 64, 67, 0.3), 0px 1px 3px 1px rgba(60, 64, 67, 0.15);\n",
              "      fill: #174EA6;\n",
              "    }\n",
              "\n",
              "    [theme=dark] .colab-df-convert {\n",
              "      background-color: #3B4455;\n",
              "      fill: #D2E3FC;\n",
              "    }\n",
              "\n",
              "    [theme=dark] .colab-df-convert:hover {\n",
              "      background-color: #434B5C;\n",
              "      box-shadow: 0px 1px 3px 1px rgba(0, 0, 0, 0.15);\n",
              "      filter: drop-shadow(0px 1px 2px rgba(0, 0, 0, 0.3));\n",
              "      fill: #FFFFFF;\n",
              "    }\n",
              "  </style>\n",
              "\n",
              "      <script>\n",
              "        const buttonEl =\n",
              "          document.querySelector('#df-0f46304c-ab06-4058-b8c4-29e825e58e7a button.colab-df-convert');\n",
              "        buttonEl.style.display =\n",
              "          google.colab.kernel.accessAllowed ? 'block' : 'none';\n",
              "\n",
              "        async function convertToInteractive(key) {\n",
              "          const element = document.querySelector('#df-0f46304c-ab06-4058-b8c4-29e825e58e7a');\n",
              "          const dataTable =\n",
              "            await google.colab.kernel.invokeFunction('convertToInteractive',\n",
              "                                                     [key], {});\n",
              "          if (!dataTable) return;\n",
              "\n",
              "          const docLinkHtml = 'Like what you see? Visit the ' +\n",
              "            '<a target=\"_blank\" href=https://colab.research.google.com/notebooks/data_table.ipynb>data table notebook</a>'\n",
              "            + ' to learn more about interactive tables.';\n",
              "          element.innerHTML = '';\n",
              "          dataTable['output_type'] = 'display_data';\n",
              "          await google.colab.output.renderOutput(dataTable, element);\n",
              "          const docLink = document.createElement('div');\n",
              "          docLink.innerHTML = docLinkHtml;\n",
              "          element.appendChild(docLink);\n",
              "        }\n",
              "      </script>\n",
              "    </div>\n",
              "  </div>\n",
              "  "
            ],
            "text/plain": [
              "  seller_type  bedroom layout_type      property_type     locality    price  \\\n",
              "0       OWNER      3.0         BHK          Apartment     Ambattur  17000.0   \n",
              "1       OWNER      2.0         BHK          Apartment  Kelambakkam  16000.0   \n",
              "2       OWNER      2.0         BHK          Apartment        Adyar  20000.0   \n",
              "3       OWNER      2.0         BHK          Apartment    Sembakkam  14000.0   \n",
              "4       OWNER      1.0         BHK  Independent House    Mogappair   7000.0   \n",
              "\n",
              "     area    furnish_type  bathroom  \n",
              "0  1570.0  Semi-Furnished       2.0  \n",
              "1  1402.0  Semi-Furnished       2.0  \n",
              "2   800.0  Semi-Furnished       2.0  \n",
              "3  1180.0     Unfurnished       2.0  \n",
              "4   400.0     Unfurnished       1.0  "
            ]
          },
          "execution_count": 25,
          "metadata": {},
          "output_type": "execute_result"
        }
      ],
      "source": [
        "df.head()"
      ]
    },
    {
      "cell_type": "code",
      "execution_count": 26,
      "metadata": {
        "id": "AeqYoUZnekCb"
      },
      "outputs": [],
      "source": [
        "x=df.iloc[:,[1,2,3,6,7,8]]"
      ]
    },
    {
      "cell_type": "code",
      "execution_count": 27,
      "metadata": {
        "colab": {
          "base_uri": "https://localhost:8080/",
          "height": 206
        },
        "id": "VKLyxrG2fpm7",
        "outputId": "8920ee0f-7cc7-47ef-ff90-6bb6a7b23298"
      },
      "outputs": [
        {
          "data": {
            "text/html": [
              "\n",
              "  <div id=\"df-589d95a4-2cb5-481f-9c7e-cb924f2987b7\">\n",
              "    <div class=\"colab-df-container\">\n",
              "      <div>\n",
              "<style scoped>\n",
              "    .dataframe tbody tr th:only-of-type {\n",
              "        vertical-align: middle;\n",
              "    }\n",
              "\n",
              "    .dataframe tbody tr th {\n",
              "        vertical-align: top;\n",
              "    }\n",
              "\n",
              "    .dataframe thead th {\n",
              "        text-align: right;\n",
              "    }\n",
              "</style>\n",
              "<table border=\"1\" class=\"dataframe\">\n",
              "  <thead>\n",
              "    <tr style=\"text-align: right;\">\n",
              "      <th></th>\n",
              "      <th>bedroom</th>\n",
              "      <th>layout_type</th>\n",
              "      <th>property_type</th>\n",
              "      <th>area</th>\n",
              "      <th>furnish_type</th>\n",
              "      <th>bathroom</th>\n",
              "    </tr>\n",
              "  </thead>\n",
              "  <tbody>\n",
              "    <tr>\n",
              "      <th>0</th>\n",
              "      <td>3.0</td>\n",
              "      <td>BHK</td>\n",
              "      <td>Apartment</td>\n",
              "      <td>1570.0</td>\n",
              "      <td>Semi-Furnished</td>\n",
              "      <td>2.0</td>\n",
              "    </tr>\n",
              "    <tr>\n",
              "      <th>1</th>\n",
              "      <td>2.0</td>\n",
              "      <td>BHK</td>\n",
              "      <td>Apartment</td>\n",
              "      <td>1402.0</td>\n",
              "      <td>Semi-Furnished</td>\n",
              "      <td>2.0</td>\n",
              "    </tr>\n",
              "    <tr>\n",
              "      <th>2</th>\n",
              "      <td>2.0</td>\n",
              "      <td>BHK</td>\n",
              "      <td>Apartment</td>\n",
              "      <td>800.0</td>\n",
              "      <td>Semi-Furnished</td>\n",
              "      <td>2.0</td>\n",
              "    </tr>\n",
              "    <tr>\n",
              "      <th>3</th>\n",
              "      <td>2.0</td>\n",
              "      <td>BHK</td>\n",
              "      <td>Apartment</td>\n",
              "      <td>1180.0</td>\n",
              "      <td>Unfurnished</td>\n",
              "      <td>2.0</td>\n",
              "    </tr>\n",
              "    <tr>\n",
              "      <th>4</th>\n",
              "      <td>1.0</td>\n",
              "      <td>BHK</td>\n",
              "      <td>Independent House</td>\n",
              "      <td>400.0</td>\n",
              "      <td>Unfurnished</td>\n",
              "      <td>1.0</td>\n",
              "    </tr>\n",
              "  </tbody>\n",
              "</table>\n",
              "</div>\n",
              "      <button class=\"colab-df-convert\" onclick=\"convertToInteractive('df-589d95a4-2cb5-481f-9c7e-cb924f2987b7')\"\n",
              "              title=\"Convert this dataframe to an interactive table.\"\n",
              "              style=\"display:none;\">\n",
              "        \n",
              "  <svg xmlns=\"http://www.w3.org/2000/svg\" height=\"24px\"viewBox=\"0 0 24 24\"\n",
              "       width=\"24px\">\n",
              "    <path d=\"M0 0h24v24H0V0z\" fill=\"none\"/>\n",
              "    <path d=\"M18.56 5.44l.94 2.06.94-2.06 2.06-.94-2.06-.94-.94-2.06-.94 2.06-2.06.94zm-11 1L8.5 8.5l.94-2.06 2.06-.94-2.06-.94L8.5 2.5l-.94 2.06-2.06.94zm10 10l.94 2.06.94-2.06 2.06-.94-2.06-.94-.94-2.06-.94 2.06-2.06.94z\"/><path d=\"M17.41 7.96l-1.37-1.37c-.4-.4-.92-.59-1.43-.59-.52 0-1.04.2-1.43.59L10.3 9.45l-7.72 7.72c-.78.78-.78 2.05 0 2.83L4 21.41c.39.39.9.59 1.41.59.51 0 1.02-.2 1.41-.59l7.78-7.78 2.81-2.81c.8-.78.8-2.07 0-2.86zM5.41 20L4 18.59l7.72-7.72 1.47 1.35L5.41 20z\"/>\n",
              "  </svg>\n",
              "      </button>\n",
              "      \n",
              "  <style>\n",
              "    .colab-df-container {\n",
              "      display:flex;\n",
              "      flex-wrap:wrap;\n",
              "      gap: 12px;\n",
              "    }\n",
              "\n",
              "    .colab-df-convert {\n",
              "      background-color: #E8F0FE;\n",
              "      border: none;\n",
              "      border-radius: 50%;\n",
              "      cursor: pointer;\n",
              "      display: none;\n",
              "      fill: #1967D2;\n",
              "      height: 32px;\n",
              "      padding: 0 0 0 0;\n",
              "      width: 32px;\n",
              "    }\n",
              "\n",
              "    .colab-df-convert:hover {\n",
              "      background-color: #E2EBFA;\n",
              "      box-shadow: 0px 1px 2px rgba(60, 64, 67, 0.3), 0px 1px 3px 1px rgba(60, 64, 67, 0.15);\n",
              "      fill: #174EA6;\n",
              "    }\n",
              "\n",
              "    [theme=dark] .colab-df-convert {\n",
              "      background-color: #3B4455;\n",
              "      fill: #D2E3FC;\n",
              "    }\n",
              "\n",
              "    [theme=dark] .colab-df-convert:hover {\n",
              "      background-color: #434B5C;\n",
              "      box-shadow: 0px 1px 3px 1px rgba(0, 0, 0, 0.15);\n",
              "      filter: drop-shadow(0px 1px 2px rgba(0, 0, 0, 0.3));\n",
              "      fill: #FFFFFF;\n",
              "    }\n",
              "  </style>\n",
              "\n",
              "      <script>\n",
              "        const buttonEl =\n",
              "          document.querySelector('#df-589d95a4-2cb5-481f-9c7e-cb924f2987b7 button.colab-df-convert');\n",
              "        buttonEl.style.display =\n",
              "          google.colab.kernel.accessAllowed ? 'block' : 'none';\n",
              "\n",
              "        async function convertToInteractive(key) {\n",
              "          const element = document.querySelector('#df-589d95a4-2cb5-481f-9c7e-cb924f2987b7');\n",
              "          const dataTable =\n",
              "            await google.colab.kernel.invokeFunction('convertToInteractive',\n",
              "                                                     [key], {});\n",
              "          if (!dataTable) return;\n",
              "\n",
              "          const docLinkHtml = 'Like what you see? Visit the ' +\n",
              "            '<a target=\"_blank\" href=https://colab.research.google.com/notebooks/data_table.ipynb>data table notebook</a>'\n",
              "            + ' to learn more about interactive tables.';\n",
              "          element.innerHTML = '';\n",
              "          dataTable['output_type'] = 'display_data';\n",
              "          await google.colab.output.renderOutput(dataTable, element);\n",
              "          const docLink = document.createElement('div');\n",
              "          docLink.innerHTML = docLinkHtml;\n",
              "          element.appendChild(docLink);\n",
              "        }\n",
              "      </script>\n",
              "    </div>\n",
              "  </div>\n",
              "  "
            ],
            "text/plain": [
              "   bedroom layout_type      property_type    area    furnish_type  bathroom\n",
              "0      3.0         BHK          Apartment  1570.0  Semi-Furnished       2.0\n",
              "1      2.0         BHK          Apartment  1402.0  Semi-Furnished       2.0\n",
              "2      2.0         BHK          Apartment   800.0  Semi-Furnished       2.0\n",
              "3      2.0         BHK          Apartment  1180.0     Unfurnished       2.0\n",
              "4      1.0         BHK  Independent House   400.0     Unfurnished       1.0"
            ]
          },
          "execution_count": 27,
          "metadata": {},
          "output_type": "execute_result"
        }
      ],
      "source": [
        "x.head()"
      ]
    },
    {
      "cell_type": "code",
      "execution_count": 28,
      "metadata": {
        "colab": {
          "base_uri": "https://localhost:8080/"
        },
        "id": "z21jUMQjfrRB",
        "outputId": "32771b04-f39d-4ade-859f-3cf05e394e23"
      },
      "outputs": [
        {
          "name": "stdout",
          "output_type": "stream",
          "text": [
            "<class 'pandas.core.frame.DataFrame'>\n",
            "Int64Index: 6258 entries, 0 to 9282\n",
            "Data columns (total 6 columns):\n",
            " #   Column         Non-Null Count  Dtype  \n",
            "---  ------         --------------  -----  \n",
            " 0   bedroom        6258 non-null   float64\n",
            " 1   layout_type    6258 non-null   object \n",
            " 2   property_type  6258 non-null   object \n",
            " 3   area           6258 non-null   float64\n",
            " 4   furnish_type   6258 non-null   object \n",
            " 5   bathroom       6258 non-null   float64\n",
            "dtypes: float64(3), object(3)\n",
            "memory usage: 471.3+ KB\n"
          ]
        }
      ],
      "source": [
        "x.info()"
      ]
    },
    {
      "cell_type": "code",
      "execution_count": 29,
      "metadata": {
        "id": "nZxAl5S4ft_k"
      },
      "outputs": [],
      "source": [
        "x_numeric=pd.get_dummies(x)"
      ]
    },
    {
      "cell_type": "code",
      "execution_count": 30,
      "metadata": {
        "colab": {
          "base_uri": "https://localhost:8080/",
          "height": 287
        },
        "id": "DT3nhEhRf0Cz",
        "outputId": "59b03b88-8b16-4d13-9e4c-2bbd80b07930"
      },
      "outputs": [
        {
          "data": {
            "text/html": [
              "\n",
              "  <div id=\"df-3ac0bd6b-53fb-4aef-9ec2-2782e4e08bdc\">\n",
              "    <div class=\"colab-df-container\">\n",
              "      <div>\n",
              "<style scoped>\n",
              "    .dataframe tbody tr th:only-of-type {\n",
              "        vertical-align: middle;\n",
              "    }\n",
              "\n",
              "    .dataframe tbody tr th {\n",
              "        vertical-align: top;\n",
              "    }\n",
              "\n",
              "    .dataframe thead th {\n",
              "        text-align: right;\n",
              "    }\n",
              "</style>\n",
              "<table border=\"1\" class=\"dataframe\">\n",
              "  <thead>\n",
              "    <tr style=\"text-align: right;\">\n",
              "      <th></th>\n",
              "      <th>bedroom</th>\n",
              "      <th>area</th>\n",
              "      <th>bathroom</th>\n",
              "      <th>layout_type_BHK</th>\n",
              "      <th>layout_type_RK</th>\n",
              "      <th>property_type_Apartment</th>\n",
              "      <th>property_type_Independent Floor</th>\n",
              "      <th>property_type_Independent House</th>\n",
              "      <th>property_type_Penthouse</th>\n",
              "      <th>property_type_Studio Apartment</th>\n",
              "      <th>property_type_Villa</th>\n",
              "      <th>furnish_type_Furnished</th>\n",
              "      <th>furnish_type_Semi-Furnished</th>\n",
              "      <th>furnish_type_Unfurnished</th>\n",
              "    </tr>\n",
              "  </thead>\n",
              "  <tbody>\n",
              "    <tr>\n",
              "      <th>0</th>\n",
              "      <td>3.0</td>\n",
              "      <td>1570.0</td>\n",
              "      <td>2.0</td>\n",
              "      <td>1</td>\n",
              "      <td>0</td>\n",
              "      <td>1</td>\n",
              "      <td>0</td>\n",
              "      <td>0</td>\n",
              "      <td>0</td>\n",
              "      <td>0</td>\n",
              "      <td>0</td>\n",
              "      <td>0</td>\n",
              "      <td>1</td>\n",
              "      <td>0</td>\n",
              "    </tr>\n",
              "    <tr>\n",
              "      <th>1</th>\n",
              "      <td>2.0</td>\n",
              "      <td>1402.0</td>\n",
              "      <td>2.0</td>\n",
              "      <td>1</td>\n",
              "      <td>0</td>\n",
              "      <td>1</td>\n",
              "      <td>0</td>\n",
              "      <td>0</td>\n",
              "      <td>0</td>\n",
              "      <td>0</td>\n",
              "      <td>0</td>\n",
              "      <td>0</td>\n",
              "      <td>1</td>\n",
              "      <td>0</td>\n",
              "    </tr>\n",
              "    <tr>\n",
              "      <th>2</th>\n",
              "      <td>2.0</td>\n",
              "      <td>800.0</td>\n",
              "      <td>2.0</td>\n",
              "      <td>1</td>\n",
              "      <td>0</td>\n",
              "      <td>1</td>\n",
              "      <td>0</td>\n",
              "      <td>0</td>\n",
              "      <td>0</td>\n",
              "      <td>0</td>\n",
              "      <td>0</td>\n",
              "      <td>0</td>\n",
              "      <td>1</td>\n",
              "      <td>0</td>\n",
              "    </tr>\n",
              "    <tr>\n",
              "      <th>3</th>\n",
              "      <td>2.0</td>\n",
              "      <td>1180.0</td>\n",
              "      <td>2.0</td>\n",
              "      <td>1</td>\n",
              "      <td>0</td>\n",
              "      <td>1</td>\n",
              "      <td>0</td>\n",
              "      <td>0</td>\n",
              "      <td>0</td>\n",
              "      <td>0</td>\n",
              "      <td>0</td>\n",
              "      <td>0</td>\n",
              "      <td>0</td>\n",
              "      <td>1</td>\n",
              "    </tr>\n",
              "    <tr>\n",
              "      <th>4</th>\n",
              "      <td>1.0</td>\n",
              "      <td>400.0</td>\n",
              "      <td>1.0</td>\n",
              "      <td>1</td>\n",
              "      <td>0</td>\n",
              "      <td>0</td>\n",
              "      <td>0</td>\n",
              "      <td>1</td>\n",
              "      <td>0</td>\n",
              "      <td>0</td>\n",
              "      <td>0</td>\n",
              "      <td>0</td>\n",
              "      <td>0</td>\n",
              "      <td>1</td>\n",
              "    </tr>\n",
              "  </tbody>\n",
              "</table>\n",
              "</div>\n",
              "      <button class=\"colab-df-convert\" onclick=\"convertToInteractive('df-3ac0bd6b-53fb-4aef-9ec2-2782e4e08bdc')\"\n",
              "              title=\"Convert this dataframe to an interactive table.\"\n",
              "              style=\"display:none;\">\n",
              "        \n",
              "  <svg xmlns=\"http://www.w3.org/2000/svg\" height=\"24px\"viewBox=\"0 0 24 24\"\n",
              "       width=\"24px\">\n",
              "    <path d=\"M0 0h24v24H0V0z\" fill=\"none\"/>\n",
              "    <path d=\"M18.56 5.44l.94 2.06.94-2.06 2.06-.94-2.06-.94-.94-2.06-.94 2.06-2.06.94zm-11 1L8.5 8.5l.94-2.06 2.06-.94-2.06-.94L8.5 2.5l-.94 2.06-2.06.94zm10 10l.94 2.06.94-2.06 2.06-.94-2.06-.94-.94-2.06-.94 2.06-2.06.94z\"/><path d=\"M17.41 7.96l-1.37-1.37c-.4-.4-.92-.59-1.43-.59-.52 0-1.04.2-1.43.59L10.3 9.45l-7.72 7.72c-.78.78-.78 2.05 0 2.83L4 21.41c.39.39.9.59 1.41.59.51 0 1.02-.2 1.41-.59l7.78-7.78 2.81-2.81c.8-.78.8-2.07 0-2.86zM5.41 20L4 18.59l7.72-7.72 1.47 1.35L5.41 20z\"/>\n",
              "  </svg>\n",
              "      </button>\n",
              "      \n",
              "  <style>\n",
              "    .colab-df-container {\n",
              "      display:flex;\n",
              "      flex-wrap:wrap;\n",
              "      gap: 12px;\n",
              "    }\n",
              "\n",
              "    .colab-df-convert {\n",
              "      background-color: #E8F0FE;\n",
              "      border: none;\n",
              "      border-radius: 50%;\n",
              "      cursor: pointer;\n",
              "      display: none;\n",
              "      fill: #1967D2;\n",
              "      height: 32px;\n",
              "      padding: 0 0 0 0;\n",
              "      width: 32px;\n",
              "    }\n",
              "\n",
              "    .colab-df-convert:hover {\n",
              "      background-color: #E2EBFA;\n",
              "      box-shadow: 0px 1px 2px rgba(60, 64, 67, 0.3), 0px 1px 3px 1px rgba(60, 64, 67, 0.15);\n",
              "      fill: #174EA6;\n",
              "    }\n",
              "\n",
              "    [theme=dark] .colab-df-convert {\n",
              "      background-color: #3B4455;\n",
              "      fill: #D2E3FC;\n",
              "    }\n",
              "\n",
              "    [theme=dark] .colab-df-convert:hover {\n",
              "      background-color: #434B5C;\n",
              "      box-shadow: 0px 1px 3px 1px rgba(0, 0, 0, 0.15);\n",
              "      filter: drop-shadow(0px 1px 2px rgba(0, 0, 0, 0.3));\n",
              "      fill: #FFFFFF;\n",
              "    }\n",
              "  </style>\n",
              "\n",
              "      <script>\n",
              "        const buttonEl =\n",
              "          document.querySelector('#df-3ac0bd6b-53fb-4aef-9ec2-2782e4e08bdc button.colab-df-convert');\n",
              "        buttonEl.style.display =\n",
              "          google.colab.kernel.accessAllowed ? 'block' : 'none';\n",
              "\n",
              "        async function convertToInteractive(key) {\n",
              "          const element = document.querySelector('#df-3ac0bd6b-53fb-4aef-9ec2-2782e4e08bdc');\n",
              "          const dataTable =\n",
              "            await google.colab.kernel.invokeFunction('convertToInteractive',\n",
              "                                                     [key], {});\n",
              "          if (!dataTable) return;\n",
              "\n",
              "          const docLinkHtml = 'Like what you see? Visit the ' +\n",
              "            '<a target=\"_blank\" href=https://colab.research.google.com/notebooks/data_table.ipynb>data table notebook</a>'\n",
              "            + ' to learn more about interactive tables.';\n",
              "          element.innerHTML = '';\n",
              "          dataTable['output_type'] = 'display_data';\n",
              "          await google.colab.output.renderOutput(dataTable, element);\n",
              "          const docLink = document.createElement('div');\n",
              "          docLink.innerHTML = docLinkHtml;\n",
              "          element.appendChild(docLink);\n",
              "        }\n",
              "      </script>\n",
              "    </div>\n",
              "  </div>\n",
              "  "
            ],
            "text/plain": [
              "   bedroom    area  bathroom  layout_type_BHK  layout_type_RK  \\\n",
              "0      3.0  1570.0       2.0                1               0   \n",
              "1      2.0  1402.0       2.0                1               0   \n",
              "2      2.0   800.0       2.0                1               0   \n",
              "3      2.0  1180.0       2.0                1               0   \n",
              "4      1.0   400.0       1.0                1               0   \n",
              "\n",
              "   property_type_Apartment  property_type_Independent Floor  \\\n",
              "0                        1                                0   \n",
              "1                        1                                0   \n",
              "2                        1                                0   \n",
              "3                        1                                0   \n",
              "4                        0                                0   \n",
              "\n",
              "   property_type_Independent House  property_type_Penthouse  \\\n",
              "0                                0                        0   \n",
              "1                                0                        0   \n",
              "2                                0                        0   \n",
              "3                                0                        0   \n",
              "4                                1                        0   \n",
              "\n",
              "   property_type_Studio Apartment  property_type_Villa  \\\n",
              "0                               0                    0   \n",
              "1                               0                    0   \n",
              "2                               0                    0   \n",
              "3                               0                    0   \n",
              "4                               0                    0   \n",
              "\n",
              "   furnish_type_Furnished  furnish_type_Semi-Furnished  \\\n",
              "0                       0                            1   \n",
              "1                       0                            1   \n",
              "2                       0                            1   \n",
              "3                       0                            0   \n",
              "4                       0                            0   \n",
              "\n",
              "   furnish_type_Unfurnished  \n",
              "0                         0  \n",
              "1                         0  \n",
              "2                         0  \n",
              "3                         1  \n",
              "4                         1  "
            ]
          },
          "execution_count": 30,
          "metadata": {},
          "output_type": "execute_result"
        }
      ],
      "source": [
        "x_numeric.head()"
      ]
    },
    {
      "cell_type": "code",
      "execution_count": 31,
      "metadata": {
        "colab": {
          "base_uri": "https://localhost:8080/",
          "height": 1000
        },
        "id": "bonSFFP8zQ4L",
        "outputId": "abab6568-9d29-4d2c-da88-c7a67d574614"
      },
      "outputs": [
        {
          "data": {
            "text/plain": [
              "<seaborn.axisgrid.PairGrid at 0x7fadd7654650>"
            ]
          },
          "execution_count": 31,
          "metadata": {},
          "output_type": "execute_result"
        },
        {
          "data": {
            "image/png": "[encoded data removed]",
            "text/plain": [
              "<Figure size 2520x2520 with 210 Axes>"
            ]
          },
          "metadata": {
            "needs_background": "light"
          },
          "output_type": "display_data"
        }
      ],
      "source": [
        "sns.pairplot(x_numeric)"
      ]
    },
    {
      "cell_type": "code",
      "execution_count": 32,
      "metadata": {
        "colab": {
          "base_uri": "https://localhost:8080/"
        },
        "id": "N6si1a2BhlTh",
        "outputId": "d252eb8b-dde1-4e04-ee8f-f563ed7b1355"
      },
      "outputs": [
        {
          "data": {
            "text/plain": [
              "bedroom                            0\n",
              "area                               0\n",
              "bathroom                           0\n",
              "layout_type_BHK                    0\n",
              "layout_type_RK                     0\n",
              "property_type_Apartment            0\n",
              "property_type_Independent Floor    0\n",
              "property_type_Independent House    0\n",
              "property_type_Penthouse            0\n",
              "property_type_Studio Apartment     0\n",
              "property_type_Villa                0\n",
              "furnish_type_Furnished             0\n",
              "furnish_type_Semi-Furnished        0\n",
              "furnish_type_Unfurnished           0\n",
              "dtype: int64"
            ]
          },
          "execution_count": 32,
          "metadata": {},
          "output_type": "execute_result"
        }
      ],
      "source": [
        "x_numeric.isnull().sum()"
      ]
    },
    {
      "cell_type": "code",
      "execution_count": 33,
      "metadata": {
        "id": "9Vp6Ckdaf5q6"
      },
      "outputs": [],
      "source": [
        "y=df['price']"
      ]
    },
    {
      "cell_type": "code",
      "execution_count": 34,
      "metadata": {
        "colab": {
          "base_uri": "https://localhost:8080/"
        },
        "id": "cCBP0-5XhBFN",
        "outputId": "3e493be3-7ed7-484d-8516-06323b933e50"
      },
      "outputs": [
        {
          "data": {
            "text/plain": [
              "0"
            ]
          },
          "execution_count": 34,
          "metadata": {},
          "output_type": "execute_result"
        }
      ],
      "source": [
        "y.isnull().sum()"
      ]
    },
    {
      "cell_type": "code",
      "execution_count": 35,
      "metadata": {
        "id": "SojyunkuhIFw"
      },
      "outputs": [],
      "source": [
        "y.dropna(axis=0,inplace=True)"
      ]
    },
    {
      "cell_type": "code",
      "execution_count": 36,
      "metadata": {
        "colab": {
          "base_uri": "https://localhost:8080/"
        },
        "id": "hD3WHmoUf_uJ",
        "outputId": "89632515-49e9-4409-e692-2e35eac12b7b"
      },
      "outputs": [
        {
          "data": {
            "text/plain": [
              "0    17000.0\n",
              "1    16000.0\n",
              "2    20000.0\n",
              "3    14000.0\n",
              "4     7000.0\n",
              "Name: price, dtype: float64"
            ]
          },
          "execution_count": 36,
          "metadata": {},
          "output_type": "execute_result"
        }
      ],
      "source": [
        "y.head()"
      ]
    },
    {
      "cell_type": "markdown",
      "metadata": {
        "id": "Msk0ik08N_sj"
      },
      "source": [
        "## Splitting Data into Training and Testing Datasets"
      ]
    },
    {
      "cell_type": "code",
      "execution_count": 37,
      "metadata": {
        "id": "SqZP7F7CgBSP"
      },
      "outputs": [],
      "source": [
        "from sklearn.model_selection import train_test_split\n",
        "x_train,x_test,y_train,y_test=train_test_split(x_numeric,y,test_size=0.2,random_state=7)"
      ]
    },
    {
      "cell_type": "code",
      "execution_count": 38,
      "metadata": {
        "colab": {
          "base_uri": "https://localhost:8080/"
        },
        "id": "vzh7xFeBOQ_v",
        "outputId": "f3846542-00a4-4417-b77e-d43f4ea611dd"
      },
      "outputs": [
        {
          "data": {
            "text/plain": [
              "((5006, 14), (5006,))"
            ]
          },
          "execution_count": 38,
          "metadata": {},
          "output_type": "execute_result"
        }
      ],
      "source": [
        "x_train.shape,y_train.shape"
      ]
    },
    {
      "cell_type": "code",
      "execution_count": 39,
      "metadata": {
        "colab": {
          "base_uri": "https://localhost:8080/"
        },
        "id": "7cj0JbskOWwi",
        "outputId": "4f216773-6def-42f5-cbb6-676b2651b594"
      },
      "outputs": [
        {
          "data": {
            "text/plain": [
              "((1252, 14), (1252,))"
            ]
          },
          "execution_count": 39,
          "metadata": {},
          "output_type": "execute_result"
        }
      ],
      "source": [
        "x_test.shape,y_test.shape"
      ]
    },
    {
      "cell_type": "code",
      "execution_count": 40,
      "metadata": {
        "colab": {
          "base_uri": "https://localhost:8080/"
        },
        "id": "qTUC9p9tOWXp",
        "outputId": "d3b69807-007e-4615-d140-0c5397e8528b"
      },
      "outputs": [
        {
          "data": {
            "text/plain": [
              "(70084, 5006)"
            ]
          },
          "execution_count": 40,
          "metadata": {},
          "output_type": "execute_result"
        }
      ],
      "source": [
        "x_train.size,y_train.size"
      ]
    },
    {
      "cell_type": "code",
      "execution_count": 41,
      "metadata": {
        "colab": {
          "base_uri": "https://localhost:8080/"
        },
        "id": "S3IcXTZIOozg",
        "outputId": "fd9672c5-037e-4ebf-bc05-5340c8fa125a"
      },
      "outputs": [
        {
          "data": {
            "text/plain": [
              "(17528, 1252)"
            ]
          },
          "execution_count": 41,
          "metadata": {},
          "output_type": "execute_result"
        }
      ],
      "source": [
        "x_test.size,y_test.size"
      ]
    },
    {
      "cell_type": "code",
      "execution_count": 42,
      "metadata": {
        "colab": {
          "base_uri": "https://localhost:8080/"
        },
        "id": "V0vb-xA_VvdQ",
        "outputId": "6df1c180-0eb2-4ec5-fa4a-c52ccadb1a4a"
      },
      "outputs": [
        {
          "data": {
            "text/plain": [
              "0.8312880263227765"
            ]
          },
          "execution_count": 42,
          "metadata": {},
          "output_type": "execute_result"
        }
      ],
      "source": [
        "from sklearn.tree import DecisionTreeRegressor\n",
        "from sklearn.metrics import accuracy_score,confusion_matrix\n",
        "model = DecisionTreeRegressor(random_state = 7)\n",
        "model.fit(x_train, y_train)\n",
        "model.score(x_train,y_train)"
      ]
    },
    {
      "cell_type": "code",
      "execution_count": 43,
      "metadata": {
        "colab": {
          "base_uri": "https://localhost:8080/",
          "height": 194
        },
        "id": "ccW9CmwreQiN",
        "outputId": "1a4fb119-3313-444b-a080-2c6b009dbafb"
      },
      "outputs": [
        {
          "data": {
            "text/html": [
              "\n",
              "  <div id=\"df-93c4ef3d-0dfd-4a87-a54c-80607b5c964c\">\n",
              "    <div class=\"colab-df-container\">\n",
              "      <div>\n",
              "<style scoped>\n",
              "    .dataframe tbody tr th:only-of-type {\n",
              "        vertical-align: middle;\n",
              "    }\n",
              "\n",
              "    .dataframe tbody tr th {\n",
              "        vertical-align: top;\n",
              "    }\n",
              "\n",
              "    .dataframe thead th {\n",
              "        text-align: right;\n",
              "    }\n",
              "</style>\n",
              "<table border=\"1\" class=\"dataframe\">\n",
              "  <thead>\n",
              "    <tr style=\"text-align: right;\">\n",
              "      <th></th>\n",
              "      <th>bedroom</th>\n",
              "      <th>area</th>\n",
              "      <th>bathroom</th>\n",
              "      <th>layout_type_BHK</th>\n",
              "      <th>layout_type_RK</th>\n",
              "      <th>property_type_Apartment</th>\n",
              "      <th>property_type_Independent Floor</th>\n",
              "      <th>property_type_Independent House</th>\n",
              "      <th>property_type_Penthouse</th>\n",
              "      <th>property_type_Studio Apartment</th>\n",
              "      <th>property_type_Villa</th>\n",
              "      <th>furnish_type_Furnished</th>\n",
              "      <th>furnish_type_Semi-Furnished</th>\n",
              "      <th>furnish_type_Unfurnished</th>\n",
              "    </tr>\n",
              "  </thead>\n",
              "  <tbody>\n",
              "    <tr>\n",
              "      <th>7120</th>\n",
              "      <td>2.0</td>\n",
              "      <td>1100.0</td>\n",
              "      <td>2.0</td>\n",
              "      <td>1</td>\n",
              "      <td>0</td>\n",
              "      <td>0</td>\n",
              "      <td>1</td>\n",
              "      <td>0</td>\n",
              "      <td>0</td>\n",
              "      <td>0</td>\n",
              "      <td>0</td>\n",
              "      <td>0</td>\n",
              "      <td>1</td>\n",
              "      <td>0</td>\n",
              "    </tr>\n",
              "    <tr>\n",
              "      <th>5635</th>\n",
              "      <td>2.0</td>\n",
              "      <td>1091.0</td>\n",
              "      <td>2.0</td>\n",
              "      <td>1</td>\n",
              "      <td>0</td>\n",
              "      <td>1</td>\n",
              "      <td>0</td>\n",
              "      <td>0</td>\n",
              "      <td>0</td>\n",
              "      <td>0</td>\n",
              "      <td>0</td>\n",
              "      <td>0</td>\n",
              "      <td>1</td>\n",
              "      <td>0</td>\n",
              "    </tr>\n",
              "  </tbody>\n",
              "</table>\n",
              "</div>\n",
              "      <button class=\"colab-df-convert\" onclick=\"convertToInteractive('df-93c4ef3d-0dfd-4a87-a54c-80607b5c964c')\"\n",
              "              title=\"Convert this dataframe to an interactive table.\"\n",
              "              style=\"display:none;\">\n",
              "        \n",
              "  <svg xmlns=\"http://www.w3.org/2000/svg\" height=\"24px\"viewBox=\"0 0 24 24\"\n",
              "       width=\"24px\">\n",
              "    <path d=\"M0 0h24v24H0V0z\" fill=\"none\"/>\n",
              "    <path d=\"M18.56 5.44l.94 2.06.94-2.06 2.06-.94-2.06-.94-.94-2.06-.94 2.06-2.06.94zm-11 1L8.5 8.5l.94-2.06 2.06-.94-2.06-.94L8.5 2.5l-.94 2.06-2.06.94zm10 10l.94 2.06.94-2.06 2.06-.94-2.06-.94-.94-2.06-.94 2.06-2.06.94z\"/><path d=\"M17.41 7.96l-1.37-1.37c-.4-.4-.92-.59-1.43-.59-.52 0-1.04.2-1.43.59L10.3 9.45l-7.72 7.72c-.78.78-.78 2.05 0 2.83L4 21.41c.39.39.9.59 1.41.59.51 0 1.02-.2 1.41-.59l7.78-7.78 2.81-2.81c.8-.78.8-2.07 0-2.86zM5.41 20L4 18.59l7.72-7.72 1.47 1.35L5.41 20z\"/>\n",
              "  </svg>\n",
              "      </button>\n",
              "      \n",
              "  <style>\n",
              "    .colab-df-container {\n",
              "      display:flex;\n",
              "      flex-wrap:wrap;\n",
              "      gap: 12px;\n",
              "    }\n",
              "\n",
              "    .colab-df-convert {\n",
              "      background-color: #E8F0FE;\n",
              "      border: none;\n",
              "      border-radius: 50%;\n",
              "      cursor: pointer;\n",
              "      display: none;\n",
              "      fill: #1967D2;\n",
              "      height: 32px;\n",
              "      padding: 0 0 0 0;\n",
              "      width: 32px;\n",
              "    }\n",
              "\n",
              "    .colab-df-convert:hover {\n",
              "      background-color: #E2EBFA;\n",
              "      box-shadow: 0px 1px 2px rgba(60, 64, 67, 0.3), 0px 1px 3px 1px rgba(60, 64, 67, 0.15);\n",
              "      fill: #174EA6;\n",
              "    }\n",
              "\n",
              "    [theme=dark] .colab-df-convert {\n",
              "      background-color: #3B4455;\n",
              "      fill: #D2E3FC;\n",
              "    }\n",
              "\n",
              "    [theme=dark] .colab-df-convert:hover {\n",
              "      background-color: #434B5C;\n",
              "      box-shadow: 0px 1px 3px 1px rgba(0, 0, 0, 0.15);\n",
              "      filter: drop-shadow(0px 1px 2px rgba(0, 0, 0, 0.3));\n",
              "      fill: #FFFFFF;\n",
              "    }\n",
              "  </style>\n",
              "\n",
              "      <script>\n",
              "        const buttonEl =\n",
              "          document.querySelector('#df-93c4ef3d-0dfd-4a87-a54c-80607b5c964c button.colab-df-convert');\n",
              "        buttonEl.style.display =\n",
              "          google.colab.kernel.accessAllowed ? 'block' : 'none';\n",
              "\n",
              "        async function convertToInteractive(key) {\n",
              "          const element = document.querySelector('#df-93c4ef3d-0dfd-4a87-a54c-80607b5c964c');\n",
              "          const dataTable =\n",
              "            await google.colab.kernel.invokeFunction('convertToInteractive',\n",
              "                                                     [key], {});\n",
              "          if (!dataTable) return;\n",
              "\n",
              "          const docLinkHtml = 'Like what you see? Visit the ' +\n",
              "            '<a target=\"_blank\" href=https://colab.research.google.com/notebooks/data_table.ipynb>data table notebook</a>'\n",
              "            + ' to learn more about interactive tables.';\n",
              "          element.innerHTML = '';\n",
              "          dataTable['output_type'] = 'display_data';\n",
              "          await google.colab.output.renderOutput(dataTable, element);\n",
              "          const docLink = document.createElement('div');\n",
              "          docLink.innerHTML = docLinkHtml;\n",
              "          element.appendChild(docLink);\n",
              "        }\n",
              "      </script>\n",
              "    </div>\n",
              "  </div>\n",
              "  "
            ],
            "text/plain": [
              "      bedroom    area  bathroom  layout_type_BHK  layout_type_RK  \\\n",
              "7120      2.0  1100.0       2.0                1               0   \n",
              "5635      2.0  1091.0       2.0                1               0   \n",
              "\n",
              "      property_type_Apartment  property_type_Independent Floor  \\\n",
              "7120                        0                                1   \n",
              "5635                        1                                0   \n",
              "\n",
              "      property_type_Independent House  property_type_Penthouse  \\\n",
              "7120                                0                        0   \n",
              "5635                                0                        0   \n",
              "\n",
              "      property_type_Studio Apartment  property_type_Villa  \\\n",
              "7120                               0                    0   \n",
              "5635                               0                    0   \n",
              "\n",
              "      furnish_type_Furnished  furnish_type_Semi-Furnished  \\\n",
              "7120                       0                            1   \n",
              "5635                       0                            1   \n",
              "\n",
              "      furnish_type_Unfurnished  \n",
              "7120                         0  \n",
              "5635                         0  "
            ]
          },
          "execution_count": 43,
          "metadata": {},
          "output_type": "execute_result"
        }
      ],
      "source": [
        "x_test.head(2)"
      ]
    },
    {
      "cell_type": "code",
      "execution_count": 44,
      "metadata": {
        "id": "QSM19AvAPdr4"
      },
      "outputs": [],
      "source": [
        "input=[2.0,1100.0,2.0,1,0,0,1,0,0,0,0,'Unfurnished']\n",
        "Fur_list=[]\n",
        "if input[11]=='Full Furniture':\n",
        "  input.remove('Furniture')\n",
        "  Fur_list.append(1)\n",
        "  Fur_list.append(0)\n",
        "  Fur_list.append(0)\n",
        "elif input[11]=='Semi Furniture':\n",
        "  input.remove('Semi Furniture')\n",
        "  Fur_list.append(0)\n",
        "  Fur_list.append(1)\n",
        "  Fur_list.append(0)\n",
        "elif input[11]=='Unfurnished':\n",
        "  input.remove('Unfurnished')\n",
        "  Fur_list.append(0)\n",
        "  Fur_list.append(0)\n",
        "  Fur_list.append(1)\n",
        "\n",
        "input_2=input+Fur_list\n",
        "last_input=tuple(input_2)"
      ]
    },
    {
      "cell_type": "code",
      "execution_count": 45,
      "metadata": {
        "colab": {
          "base_uri": "https://localhost:8080/"
        },
        "id": "0NG62_K0SP-b",
        "outputId": "e92195f2-0ec4-4017-d508-8bf86ba62c4b"
      },
      "outputs": [
        {
          "data": {
            "text/plain": [
              "[2.0, 1100.0, 2.0, 1, 0, 0, 1, 0, 0, 0, 0, 0, 0, 1]"
            ]
          },
          "execution_count": 45,
          "metadata": {},
          "output_type": "execute_result"
        }
      ],
      "source": [
        "input_2"
      ]
    },
    {
      "cell_type": "code",
      "execution_count": 46,
      "metadata": {
        "colab": {
          "base_uri": "https://localhost:8080/"
        },
        "id": "am_2btyARz0u",
        "outputId": "aee36185-2da9-4707-ca2b-76c34aa64b18"
      },
      "outputs": [
        {
          "data": {
            "text/plain": [
              "(2.0, 1100.0, 2.0, 1, 0, 0, 1, 0, 0, 0, 0, 0, 0, 1)"
            ]
          },
          "execution_count": 46,
          "metadata": {},
          "output_type": "execute_result"
        }
      ],
      "source": [
        "last_input"
      ]
    },
    {
      "cell_type": "code",
      "execution_count": 47,
      "metadata": {
        "colab": {
          "base_uri": "https://localhost:8080/"
        },
        "id": "UnAndImeW7et",
        "outputId": "1b67dbf2-4cd7-4bb2-a98a-7efdbacdb7e0"
      },
      "outputs": [
        {
          "name": "stdout",
          "output_type": "stream",
          "text": [
            "[14562.5]\n"
          ]
        },
        {
          "name": "stderr",
          "output_type": "stream",
          "text": [
            "/usr/local/lib/python3.7/dist-packages/sklearn/base.py:451: UserWarning: X does not have valid feature names, but DecisionTreeRegressor was fitted with feature names\n",
            "  \"X does not have valid feature names, but\"\n"
          ]
        }
      ],
      "source": [
        "input_numpy=np.asarray(last_input)\n",
        "input_reshape=input_numpy.reshape(1,-1)\n",
        "pred=model.predict(input_reshape)\n",
        "print(pred)"
      ]
    },
    {
      "cell_type": "code",
      "execution_count": 48,
      "metadata": {
        "id": "Ezh3JqOAwTIb"
      },
      "outputs": [],
      "source": [
        "import pickle"
      ]
    },
    {
      "cell_type": "code",
      "execution_count": 49,
      "metadata": {
        "id": "e44lw-RceHSK"
      },
      "outputs": [],
      "source": [
        "filename = 'Rent_prediction_model.pkl'\n",
        "pickle.dump(model,open(filename,'wb'))"
      ]
    },
    {
      "cell_type": "code",
      "execution_count": 50,
      "metadata": {
        "colab": {
          "base_uri": "https://localhost:8080/"
        },
        "id": "9UZETpAlwNJ6",
        "outputId": "aab0a2a0-a405-43df-bb78-61738e505d75"
      },
      "outputs": [
        {
          "name": "stderr",
          "output_type": "stream",
          "text": [
            "/usr/local/lib/python3.7/dist-packages/sklearn/base.py:451: UserWarning: X does not have valid feature names, but DecisionTreeRegressor was fitted with feature names\n",
            "  \"X does not have valid feature names, but\"\n"
          ]
        },
        {
          "data": {
            "text/plain": [
              "array([14562.5])"
            ]
          },
          "execution_count": 50,
          "metadata": {},
          "output_type": "execute_result"
        }
      ],
      "source": [
        "laoded_model = pickle.load(open(filename,'rb'))\n",
        "laoded_model.predict(input_reshape)"
      ]
    },
    {
      "attachments": {},
      "cell_type": "markdown",
      "metadata": {
        "id": "67XzQYv1sRmM"
      },
      "source": [
        "👨‍💻 Project Completed by --> **CH VENKATA KRISHNA REDDY**"
      ]
    }
  ],
  "metadata": {
    "colab": {
      "collapsed_sections": [],
      "include_colab_link": true,
      "name": "HCL Mini.ipynb",
      "provenance": []
    },
    "kernelspec": {
      "display_name": "Python 3",
      "name": "python3"
    },
    "language_info": {
      "name": "python"
    }
  },
  "nbformat": 4,
  "nbformat_minor": 0
}
